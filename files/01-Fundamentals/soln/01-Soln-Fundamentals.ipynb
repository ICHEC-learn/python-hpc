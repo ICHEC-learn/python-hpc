{
 "cells": [
  {
   "cell_type": "markdown",
   "metadata": {},
   "source": [
    "<img src=\"../../img/ICHEC_Logo.png\" alt=\"Drawing\" style=\"width: 500px;\"/>\n"
   ]
  },
  {
   "cell_type": "markdown",
   "metadata": {},
   "source": [
    "# <center> Exercises"
   ]
  },
  {
   "cell_type": "markdown",
   "metadata": {},
   "source": [
    "******\n",
    "# <center> <b>Performance Measurement</b>\n",
    "    \n",
    "### <center> 10 minutes\n",
    "******\n",
    "#### <center> <b>Exercise 1<b/>"
   ]
  },
  {
   "cell_type": "markdown",
   "metadata": {},
   "source": [
    "There are three functions in the code block below. Each is a slightly different implementation of a Montecarlo algorithm for calculating the value of pi. Use `time.time()`, `%timeit`, `cProfile` and `pstats` to learn how the functions work. Are the timings what you would expect? What implementation is fastest for 1 million points?\n",
    "\n",
    "<br>\n",
    "\n",
    "`pi_estimation_pure()` is a pure Python implementation using lists\n",
    "\n",
    "`pi_estimation_loop()` uses numpy arrays to replace the python lists.\n",
    "\n",
    "`pi_estimation_np()` uses numpy to improve the performance of the algorithm. \n",
    "\n",
    "<br>\n",
    "\n",
    "**Hint:** You may want to try writing the three functions to a file and running `cProfile` on that file. You can use the ipython magic `%%writefile`"
   ]
  },
  {
   "cell_type": "code",
   "execution_count": 1,
   "metadata": {},
   "outputs": [],
   "source": [
    "import math\n",
    "import random as rnd\n",
    "import numpy as np\n",
    "import time\n",
    "\n",
    "def pi_estimation_pure(n):\n",
    "    # Using time.time()\n",
    "    t0 = time.time()\n",
    "    x, y = [], []\n",
    "    for i in range(n):\n",
    "        x.append(rnd.random())\n",
    "        y.append(rnd.random())\n",
    "    pi_xy = [(x[i], y[i]) for i in range(n) if math.sqrt(x[i] ** 2 + y[i] ** 2) <= 1]\n",
    "    # Using time.time()\n",
    "    t1 = time.time()\n",
    "    print(t1-t0)\n",
    "    return 4 * len(pi_xy) / len(x)\n",
    "\n",
    "def pi_estimation_loop(n):\n",
    "    count=0\n",
    "    # Using time.time()\n",
    "    t2 = time.time()\n",
    "    for step in range(n):\n",
    "        x=np.random.rand(1)\n",
    "        y=np.random.rand(1)\n",
    "        if math.sqrt(x*x+y*y)<1:\n",
    "            count+=1\n",
    "    # Using time.time()\n",
    "    t3 = time.time()\n",
    "    print(t3-t2)\n",
    "    return 4*count/n\n",
    "\n",
    "def pi_estimation_np(n):\n",
    "    # Using time.time()\n",
    "    t4 = time.time()\n",
    "    p=np.random.rand(n,2)\n",
    "    p_est = 4*np.sum(np.sqrt(p[:,0]*p[:,0]+p[:,1]*p[:,1])<1)/n\n",
    "    # Using time.time()\n",
    "    t5 = time.time()\n",
    "    print(t5-t4)\n",
    "    return p_est"
   ]
  },
  {
   "cell_type": "code",
   "execution_count": 2,
   "metadata": {},
   "outputs": [
    {
     "name": "stdout",
     "output_type": "stream",
     "text": [
      "0.7457091808319092\n"
     ]
    },
    {
     "data": {
      "text/plain": [
       "3.142828"
      ]
     },
     "execution_count": 2,
     "metadata": {},
     "output_type": "execute_result"
    }
   ],
   "source": [
    "pi_estimation_pure(1000000)"
   ]
  },
  {
   "cell_type": "code",
   "execution_count": 3,
   "metadata": {},
   "outputs": [
    {
     "name": "stdout",
     "output_type": "stream",
     "text": [
      "3.419360876083374\n"
     ]
    },
    {
     "data": {
      "text/plain": [
       "3.1409"
      ]
     },
     "execution_count": 3,
     "metadata": {},
     "output_type": "execute_result"
    }
   ],
   "source": [
    "pi_estimation_loop(1000000)"
   ]
  },
  {
   "cell_type": "code",
   "execution_count": 4,
   "metadata": {},
   "outputs": [
    {
     "name": "stdout",
     "output_type": "stream",
     "text": [
      "0.04009199142456055\n"
     ]
    },
    {
     "data": {
      "text/plain": [
       "3.146424"
      ]
     },
     "execution_count": 4,
     "metadata": {},
     "output_type": "execute_result"
    }
   ],
   "source": [
    "pi_estimation_np(1000000)"
   ]
  },
  {
   "cell_type": "code",
   "execution_count": 5,
   "metadata": {},
   "outputs": [
    {
     "name": "stdout",
     "output_type": "stream",
     "text": [
      "0.6388969421386719\n",
      "0.6404180526733398\n",
      "0.6299540996551514\n",
      "0.6413071155548096\n",
      "0.6320500373840332\n",
      "0.6311459541320801\n",
      "0.638883113861084\n",
      "0.6296782493591309\n",
      "686 ms ± 4.52 ms per loop (mean ± std. dev. of 7 runs, 1 loop each)\n"
     ]
    }
   ],
   "source": [
    "# pi_estimation_pure()\n",
    "%timeit pi_estimation_pure(1000000)"
   ]
  },
  {
   "cell_type": "code",
   "execution_count": 6,
   "metadata": {},
   "outputs": [
    {
     "name": "stdout",
     "output_type": "stream",
     "text": [
      "3.458165168762207\n",
      "3.5930898189544678\n",
      "3.5071208477020264\n",
      "3.507952928543091\n",
      "3.4211158752441406\n",
      "3.581799030303955\n",
      "3.7002501487731934\n",
      "3.5380139350891113\n",
      "3.55 s ± 80.9 ms per loop (mean ± std. dev. of 7 runs, 1 loop each)\n"
     ]
    }
   ],
   "source": [
    "# pi_estimation_loop()\n",
    "%timeit pi_estimation_loop(1000000)"
   ]
  },
  {
   "cell_type": "code",
   "execution_count": 7,
   "metadata": {},
   "outputs": [
    {
     "name": "stdout",
     "output_type": "stream",
     "text": [
      "0.03532910346984863\n",
      "0.019591093063354492\n",
      "0.021593809127807617\n",
      "0.020576000213623047\n",
      "0.020442724227905273\n",
      "0.021185874938964844\n",
      "0.02086186408996582\n",
      "0.020165205001831055\n",
      "0.021763086318969727\n",
      "0.023832082748413086\n",
      "0.023051977157592773\n",
      "0.020264863967895508\n",
      "0.02056717872619629\n",
      "0.020463228225708008\n",
      "0.021265268325805664\n",
      "0.02032303810119629\n",
      "0.020058870315551758\n",
      "0.021752119064331055\n",
      "0.022140979766845703\n",
      "0.02025127410888672\n",
      "0.02091217041015625\n",
      "0.0202181339263916\n",
      "0.019881010055541992\n",
      "0.02109217643737793\n",
      "0.020277976989746094\n",
      "0.019812822341918945\n",
      "0.02013707160949707\n",
      "0.019914627075195312\n",
      "0.02050495147705078\n",
      "0.020180940628051758\n",
      "0.020965099334716797\n",
      "0.01991128921508789\n",
      "0.019964933395385742\n",
      "0.020548105239868164\n",
      "0.020367145538330078\n",
      "0.020576000213623047\n",
      "0.02005791664123535\n",
      "0.020261287689208984\n",
      "0.019858360290527344\n",
      "0.020518064498901367\n",
      "0.020605087280273438\n",
      "0.019870996475219727\n",
      "0.02013373374938965\n",
      "0.021491050720214844\n",
      "0.020427227020263672\n",
      "0.0203249454498291\n",
      "0.020351886749267578\n",
      "0.02017521858215332\n",
      "0.020333290100097656\n",
      "0.019611120223999023\n",
      "0.01970386505126953\n",
      "0.019524097442626953\n",
      "0.019556045532226562\n",
      "0.01932215690612793\n",
      "0.01981377601623535\n",
      "0.02036309242248535\n",
      "0.019457101821899414\n",
      "0.021465063095092773\n",
      "0.02058720588684082\n",
      "0.022752046585083008\n",
      "0.02456974983215332\n",
      "0.02126908302307129\n",
      "0.019865036010742188\n",
      "0.01949787139892578\n",
      "0.019083023071289062\n",
      "0.019176006317138672\n",
      "0.02034306526184082\n",
      "0.01941204071044922\n",
      "0.02098822593688965\n",
      "0.022224903106689453\n",
      "0.020866870880126953\n",
      "0.019979000091552734\n",
      "0.020646095275878906\n",
      "0.02092599868774414\n",
      "0.020267009735107422\n",
      "0.02020096778869629\n",
      "0.019855976104736328\n",
      "0.019745826721191406\n",
      "0.019941091537475586\n",
      "0.0196840763092041\n",
      "0.019507169723510742\n",
      "22.2 ms ± 271 µs per loop (mean ± std. dev. of 7 runs, 10 loops each)\n"
     ]
    }
   ],
   "source": [
    "# pi_estimation_np()\n",
    "%timeit pi_estimation_np(1000000)"
   ]
  },
  {
   "cell_type": "markdown",
   "metadata": {},
   "source": [
    "****\n",
    "\n",
    "\n",
    "#### <center> <b>Exercise 2\n",
    "\n",
    "The file **heat_equation_simple.py** contains an inefficient implementation of the two dimensional heat equation. Use cProfile and pstats to find where the time is most spent in the program (did in class)\n",
    "\n",
    "* Compare with the file **heat_equation_index.py** a more efficient version that uses indexing rather than for loops."
   ]
  },
  {
   "cell_type": "code",
   "execution_count": 8,
   "metadata": {},
   "outputs": [
    {
     "name": "stdout",
     "output_type": "stream",
     "text": [
      "Running Time: 19.337878942489624\r\n"
     ]
    }
   ],
   "source": [
    "!python -m cProfile -o heat_equation_simple.prof heat_equation_simple.py"
   ]
  },
  {
   "cell_type": "code",
   "execution_count": 9,
   "metadata": {},
   "outputs": [
    {
     "name": "stdout",
     "output_type": "stream",
     "text": [
      "Running Time: 0.0661311149597168\r\n"
     ]
    }
   ],
   "source": [
    "!python -m cProfile -o heat_equation_index.prof heat_equation_index.py"
   ]
  },
  {
   "cell_type": "code",
   "execution_count": 10,
   "metadata": {},
   "outputs": [
    {
     "name": "stdout",
     "output_type": "stream",
     "text": [
      "Tue May 10 10:55:01 2022    heat_equation_simple.prof\n",
      "\n",
      "         1007137 function calls (988274 primitive calls) in 22.350 seconds\n",
      "\n",
      "   Ordered by: cumulative time\n",
      "   List reduced from 5908 to 10 due to restriction <10>\n",
      "\n",
      "   ncalls  tottime  percall  cumtime  percall filename:lineno(function)\n",
      "   1272/1    0.008    0.000   22.351   22.351 {built-in method builtins.exec}\n",
      "        1    0.000    0.000   22.351   22.351 heat_equation_simple.py:1(<module>)\n",
      "        1    0.000    0.000   19.642   19.642 heat_equation_simple.py:41(main)\n",
      "        1    0.001    0.001   19.338   19.338 heat_equation_simple.py:35(iterate)\n",
      "      200   19.337    0.097   19.337    0.097 evolve.py:1(evolve)\n",
      "       83    0.004    0.000    6.032    0.073 __init__.py:1(<module>)\n",
      "    912/6    0.008    0.000    2.752    0.459 <frozen importlib._bootstrap>:986(_find_and_load)\n",
      "    909/6    0.005    0.000    2.752    0.459 <frozen importlib._bootstrap>:956(_find_and_load_unlocked)\n",
      "    871/7    0.006    0.000    2.750    0.393 <frozen importlib._bootstrap>:650(_load_unlocked)\n",
      "    797/7    0.004    0.000    2.750    0.393 <frozen importlib._bootstrap_external>:777(exec_module)\n",
      "\n",
      "\n",
      "Tue May 10 10:55:04 2022    heat_equation_index.prof\n",
      "\n",
      "         1007135 function calls (988272 primitive calls) in 2.718 seconds\n",
      "\n",
      "   Ordered by: cumulative time\n",
      "   List reduced from 5908 to 10 due to restriction <10>\n",
      "\n",
      "   ncalls  tottime  percall  cumtime  percall filename:lineno(function)\n",
      "       83    0.003    0.000    5.438    0.066 __init__.py:1(<module>)\n",
      "   1272/1    0.008    0.000    2.719    2.719 {built-in method builtins.exec}\n",
      "        1    0.000    0.000    2.719    2.719 heat_equation_index.py:1(<module>)\n",
      "    912/6    0.007    0.000    2.424    0.404 <frozen importlib._bootstrap>:986(_find_and_load)\n",
      "    909/6    0.004    0.000    2.424    0.404 <frozen importlib._bootstrap>:956(_find_and_load_unlocked)\n",
      "    871/7    0.005    0.000    2.422    0.346 <frozen importlib._bootstrap>:650(_load_unlocked)\n",
      "    797/7    0.003    0.000    2.422    0.346 <frozen importlib._bootstrap_external>:777(exec_module)\n",
      "   1159/8    0.001    0.000    2.418    0.302 <frozen importlib._bootstrap>:211(_call_with_frames_removed)\n",
      "   499/31    0.001    0.000    2.214    0.071 {built-in method builtins.__import__}\n",
      "        1    0.000    0.000    1.724    1.724 pyplot.py:4(<module>)\n",
      "\n",
      "\n"
     ]
    },
    {
     "data": {
      "text/plain": [
       "<pstats.Stats at 0x7febe568d040>"
      ]
     },
     "execution_count": 10,
     "metadata": {},
     "output_type": "execute_result"
    }
   ],
   "source": [
    "from pstats import Stats\n",
    "p1 = Stats('heat_equation_simple.prof')\n",
    "p2 = Stats('heat_equation_index.prof')\n",
    "\n",
    "p1.strip_dirs() \n",
    "p2.strip_dirs() \n",
    "\n",
    "p1.sort_stats('cumulative').print_stats(10)\n",
    "p2.sort_stats('cumulative').print_stats(10)"
   ]
  },
  {
   "cell_type": "markdown",
   "metadata": {},
   "source": [
    "*****\n",
    "*****"
   ]
  },
  {
   "cell_type": "markdown",
   "metadata": {},
   "source": [
    "# <center> <b>NumPy</b>\n",
    "    \n",
    "### <center> 5 minutes\n",
    "****\n",
    "#### <center> <b> Exercise 1"
   ]
  },
  {
   "cell_type": "markdown",
   "metadata": {},
   "source": [
    "Create arrays of zeros using `np.zeros`, then use slicing to obtain the following outputs:\n",
    "\n",
    "A\n",
    "$$\\begin{bmatrix} 0 & 0 & 0 & 0 \\\\ 2 & 2 & 2 & 2 \\\\ 2 & 2 & 2 & 2 \\\\ 0 & 0 & 0 & 0 \\end{bmatrix}$$\n",
    "B\n",
    "$$\\begin{bmatrix} 0 & 0 & 0 & 0 \\\\ 0 & 2 & 2 & 0 \\\\ 0 & 2 & 2 & 0 \\\\ 0 & 0 & 0 & 0 \\end{bmatrix}$$\n",
    "C\n",
    "$$\\begin{bmatrix} 2 & 2 & 2 & 2 \\\\ 0 & 0 & 0 & 0 \\\\ 0 & 0 & 0 & 0 \\\\ 2 & 2 & 2 & 2 \\end{bmatrix}$$\n",
    "D\n",
    "$$\\begin{bmatrix} 2 & 0 & 0 & 2 \\\\ 0 & 0 & 0 & 0 \\\\ 0 & 0 & 0 & 0 \\\\ 2 & 0 & 0 & 2 \\end{bmatrix}$$"
   ]
  },
  {
   "cell_type": "code",
   "execution_count": 11,
   "metadata": {},
   "outputs": [],
   "source": [
    "import numpy as np"
   ]
  },
  {
   "cell_type": "code",
   "execution_count": 12,
   "metadata": {},
   "outputs": [
    {
     "data": {
      "text/plain": [
       "array([[0., 0., 0., 0.],\n",
       "       [2., 2., 2., 2.],\n",
       "       [2., 2., 2., 2.],\n",
       "       [0., 0., 0., 0.]])"
      ]
     },
     "execution_count": 12,
     "metadata": {},
     "output_type": "execute_result"
    }
   ],
   "source": [
    "# A\n",
    "a = np.zeros((4,4))\n",
    "a[1:3, :] = 2\n",
    "a"
   ]
  },
  {
   "cell_type": "code",
   "execution_count": 13,
   "metadata": {},
   "outputs": [
    {
     "data": {
      "text/plain": [
       "array([[0., 0., 0., 0.],\n",
       "       [0., 2., 2., 0.],\n",
       "       [0., 2., 2., 0.],\n",
       "       [0., 0., 0., 0.]])"
      ]
     },
     "execution_count": 13,
     "metadata": {},
     "output_type": "execute_result"
    }
   ],
   "source": [
    "# B\n",
    "b = np.zeros((4,4))\n",
    "b[1:3, 1:3] = 2\n",
    "b"
   ]
  },
  {
   "cell_type": "code",
   "execution_count": 14,
   "metadata": {},
   "outputs": [
    {
     "data": {
      "text/plain": [
       "array([[2., 2., 2., 2.],\n",
       "       [0., 0., 0., 0.],\n",
       "       [0., 0., 0., 0.],\n",
       "       [2., 2., 2., 2.]])"
      ]
     },
     "execution_count": 14,
     "metadata": {},
     "output_type": "execute_result"
    }
   ],
   "source": [
    "# C\n",
    "c = np.zeros((4,4))\n",
    "c[0:4:3, 0:] = 2\n",
    "c"
   ]
  },
  {
   "cell_type": "code",
   "execution_count": 15,
   "metadata": {},
   "outputs": [
    {
     "data": {
      "text/plain": [
       "array([[2., 0., 0., 2.],\n",
       "       [0., 0., 0., 0.],\n",
       "       [0., 0., 0., 0.],\n",
       "       [2., 0., 0., 2.]])"
      ]
     },
     "execution_count": 15,
     "metadata": {},
     "output_type": "execute_result"
    }
   ],
   "source": [
    "# D\n",
    "d = np.zeros((4,4))\n",
    "d[0:4:3, 0:4:3] = 2\n",
    "d"
   ]
  },
  {
   "cell_type": "markdown",
   "metadata": {},
   "source": [
    "#### <center><b> Exercise 2\n",
    "\n",
    "Generate a sequence of the first 10000 powers of 2 in a numpy array (starting at $2^0$).\n",
    "Your output should be an array $[2^0, 2^1, 2^2, 2^3, ...]$."
   ]
  },
  {
   "cell_type": "code",
   "execution_count": 16,
   "metadata": {},
   "outputs": [
    {
     "name": "stdout",
     "output_type": "stream",
     "text": [
      "List time: 0.09607720375061035 seconds\n",
      "NumPy time: 9.322166442871094e-05 seconds\n"
     ]
    }
   ],
   "source": [
    "import time\n",
    "#List version\n",
    "ti=time.time()\n",
    "outloop=[2**i for i in range(10000)]\n",
    "tf=time.time()\n",
    "print('List time: {} seconds'.format(tf-ti))\n",
    "\n",
    "\n",
    "#Numpy version-Complete the code:\n",
    "ti=time.time()\n",
    "out = np.array(2**i for i in range(10000))\n",
    "tf=time.time()\n",
    "print('NumPy time: {} seconds'.format(tf-ti))"
   ]
  },
  {
   "cell_type": "markdown",
   "metadata": {},
   "source": [
    "******\n",
    "******\n",
    "\n",
    "## <center> <b> Caching</b>\n",
    "\n",
    "### <center> 5 minutes\n",
    "****"
   ]
  },
  {
   "cell_type": "markdown",
   "metadata": {},
   "source": [
    "Imagine you want to determine all the different ways you can reach a specific stair in a staircase by hopping one, two, or three stairs at a time. \n",
    "\n",
    "How many paths are there to the fourth stair? Here are all the different combinations.\n",
    "\n",
    "<img src=\"../../img/stairs.png\" alt=\"Drawing\" style=\"width: 500px;\"/>\n",
    "\n",
    "A solution to this problem is to state that;\n",
    "\n",
    "<center> <b>To reach your current stair, you can jump from one stair, two stairs, or three stairs below.</b>\n",
    "<br>\n",
    "    <br>\n",
    "\n",
    "Adding up the number of jump combinations you can use to get to each of those points should give you the total number of possible ways to reach your current position.\n",
    "\n",
    "For 4 stairs, there are 7 combinations. For 3 there is 4, and for 2 there is 2.\n",
    "    \n",
    "The file `stairs.py` implements recursion to solve the problem"
   ]
  },
  {
   "cell_type": "code",
   "execution_count": 17,
   "metadata": {},
   "outputs": [
    {
     "name": "stdout",
     "output_type": "stream",
     "text": [
      "53798080\n"
     ]
    }
   ],
   "source": [
    "from functools import lru_cache\n",
    "@lru_cache(100)\n",
    "def steps_to(stair):\n",
    "    if stair == 1:\n",
    "        # You can reach the first stair with only a single step\n",
    "        # from the floor.\n",
    "        return 1\n",
    "    elif stair == 2:\n",
    "        # You can reach the second stair by jumping from the\n",
    "        # floor with a single two-stair hop or by jumping a single\n",
    "        # stair a couple of times.\n",
    "        return 2\n",
    "    elif stair == 3:\n",
    "        # You can reach the third stair using four possible\n",
    "        # combinations:\n",
    "        # 1. Jumping all the way from the floor\n",
    "        # 2. Jumping two stairs, then one\n",
    "        # 3. Jumping one stair, then two\n",
    "        # 4. Jumping one stair three times\n",
    "        return 4\n",
    "    else:\n",
    "        # You can reach your current stair from three different places:\n",
    "        # 1. From three stairs down\n",
    "        # 2. From two stairs down\n",
    "        # 2. From one stair down\n",
    "        #\n",
    "        # If you add up the number of ways of getting to those\n",
    "        # those three positions, then you should have your solution.\n",
    "        return (\n",
    "            steps_to(stair - 3)\n",
    "            + steps_to(stair - 2)\n",
    "            + steps_to(stair - 1)\n",
    "        )\n",
    "\n",
    "print(steps_to(30))"
   ]
  },
  {
   "cell_type": "markdown",
   "metadata": {},
   "source": [
    "Create a timing setup and record the time taken for **30 iterations**. Then implement the `lru_cache` and compare the improvement."
   ]
  },
  {
   "cell_type": "code",
   "execution_count": 19,
   "metadata": {},
   "outputs": [
    {
     "name": "stdout",
     "output_type": "stream",
     "text": [
      "1.940000004196918e-06\n"
     ]
    }
   ],
   "source": [
    "import timeit\n",
    "t1 = timeit.Timer(\"steps_to(30)\", \"from __main__ import steps_to\")\n",
    "print(t1.timeit(1))"
   ]
  },
  {
   "cell_type": "code",
   "execution_count": null,
   "metadata": {},
   "outputs": [],
   "source": []
  }
 ],
 "metadata": {
  "kernelspec": {
   "display_name": "Python 3",
   "language": "python",
   "name": "python3"
  },
  "language_info": {
   "codemirror_mode": {
    "name": "ipython",
    "version": 3
   },
   "file_extension": ".py",
   "mimetype": "text/x-python",
   "name": "python",
   "nbconvert_exporter": "python",
   "pygments_lexer": "ipython3",
   "version": "3.8.5"
  }
 },
 "nbformat": 4,
 "nbformat_minor": 4
}
