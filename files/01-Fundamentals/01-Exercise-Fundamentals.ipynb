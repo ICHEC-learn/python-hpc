{
 "cells": [
  {
   "cell_type": "markdown",
   "metadata": {},
   "source": [
    "<img src=\"../img/ICHEC_Logo.png\" alt=\"Drawing\" style=\"width: 500px;\"/>\n"
   ]
  },
  {
   "cell_type": "markdown",
   "metadata": {},
   "source": [
    "# <center> Exercises"
   ]
  },
  {
   "cell_type": "markdown",
   "metadata": {},
   "source": [
    "******\n",
    "# <center> <b>Performance Measurement</b>\n",
    "    \n",
    "### <center> 10 minutes\n",
    "******\n",
    "#### <center> <b>Exercise 1<b/>"
   ]
  },
  {
   "cell_type": "markdown",
   "metadata": {},
   "source": [
    "There are three functions in the code block below. Each is a slightly different implementation of a Montecarlo algorithm for calculating the value of pi. Use `time.time()`, `%timeit`, `cProfile` and `pstats` to learn how the functions work. Are the timings what you would expect? What implementation is fastest for 1 million points?\n",
    "\n",
    "<br>\n",
    "\n",
    "`pi_estimation_pure()` is a pure Python implementation using lists\n",
    "\n",
    "`pi_estimation_loop()` uses numpy arrays to replace the python lists.\n",
    "\n",
    "`pi_estimation_np()` uses numpy to improve the performance of the algorithm. \n",
    "\n",
    "<br>\n",
    "\n",
    "**Hint:** You may want to try writing the three functions to a file and running `cProfile` on that file. You can use the ipython magic `%%writefile`"
   ]
  },
  {
   "cell_type": "code",
   "execution_count": null,
   "metadata": {},
   "outputs": [],
   "source": [
    "import math\n",
    "import random as rnd\n",
    "import numpy as np\n",
    "import time\n",
    "\n",
    "def pi_estimation_pure(n):\n",
    "    # TODO\n",
    "    x, y = [], []\n",
    "    for i in range(n):\n",
    "        x.append(rnd.random())\n",
    "        y.append(rnd.random())\n",
    "    pi_xy = [(x[i], y[i]) for i in range(n) if math.sqrt(x[i] ** 2 + y[i] ** 2) <= 1]\n",
    "    # TODO\n",
    "    #\n",
    "    return 4 * len(pi_xy) / len(x)\n",
    "\n",
    "def pi_estimation_loop(n):\n",
    "    count=0\n",
    "    # TODO\n",
    "    for step in range(n):\n",
    "        x=np.random.rand(1)\n",
    "        y=np.random.rand(1)\n",
    "        if math.sqrt(x*x+y*y)<1:\n",
    "            count+=1\n",
    "    # TODO\n",
    "    #\n",
    "    return 4*count/n\n",
    "\n",
    "def pi_estimation_np(n):\n",
    "    # TODO\n",
    "    p=np.random.rand(n,2)\n",
    "    p_est = 4*np.sum(np.sqrt(p[:,0]*p[:,0]+p[:,1]*p[:,1])<1)/n\n",
    "    # TODO\n",
    "    #\n",
    "    return p_est"
   ]
  },
  {
   "cell_type": "code",
   "execution_count": null,
   "metadata": {},
   "outputs": [],
   "source": [
    "pi_estimation_pure(1000000)"
   ]
  },
  {
   "cell_type": "code",
   "execution_count": null,
   "metadata": {},
   "outputs": [],
   "source": [
    "pi_estimation_loop(1000000)"
   ]
  },
  {
   "cell_type": "code",
   "execution_count": null,
   "metadata": {},
   "outputs": [],
   "source": [
    "pi_estimation_np(1000000)"
   ]
  },
  {
   "cell_type": "code",
   "execution_count": null,
   "metadata": {},
   "outputs": [],
   "source": [
    "# pi_estimation_pure()\n",
    "# TODO"
   ]
  },
  {
   "cell_type": "code",
   "execution_count": null,
   "metadata": {},
   "outputs": [],
   "source": [
    "# pi_estimation_loop()\n",
    "# TODO"
   ]
  },
  {
   "cell_type": "code",
   "execution_count": null,
   "metadata": {},
   "outputs": [],
   "source": [
    "# pi_estimation_np()\n",
    "# TODO"
   ]
  },
  {
   "cell_type": "markdown",
   "metadata": {},
   "source": [
    "****\n",
    "\n",
    "\n",
    "#### <center> <b>Exercise 2\n",
    "\n",
    "The file **heat_equation_simple.py** contains an inefficient implementation of the two dimensional heat equation. Use cProfile and pstats to find where the time is most spent in the program (did in class)\n",
    "\n",
    "* Compare with the file **heat_equation_index.py** a more efficient version that uses indexing rather than for loops."
   ]
  },
  {
   "cell_type": "code",
   "execution_count": null,
   "metadata": {},
   "outputs": [],
   "source": [
    "# TODO "
   ]
  },
  {
   "cell_type": "markdown",
   "metadata": {},
   "source": [
    "*****\n",
    "*****"
   ]
  },
  {
   "cell_type": "markdown",
   "metadata": {},
   "source": [
    "# <center> <b>NumPy</b>\n",
    "    \n",
    "### <center> 5 minutes\n",
    "****\n",
    "#### <center> <b> Exercise 1"
   ]
  },
  {
   "cell_type": "markdown",
   "metadata": {},
   "source": [
    "Create arrays of zeros using `np.zeros`, then use slicing to obtain the following outputs:\n",
    "\n",
    "A\n",
    "$$\\begin{bmatrix} 0 & 0 & 0 & 0 \\\\ 2 & 2 & 2 & 2 \\\\ 2 & 2 & 2 & 2 \\\\ 0 & 0 & 0 & 0 \\end{bmatrix}$$\n",
    "B\n",
    "$$\\begin{bmatrix} 0 & 0 & 0 & 0 \\\\ 0 & 2 & 2 & 0 \\\\ 0 & 2 & 2 & 0 \\\\ 0 & 0 & 0 & 0 \\end{bmatrix}$$\n",
    "C\n",
    "$$\\begin{bmatrix} 2 & 2 & 2 & 2 \\\\ 0 & 0 & 0 & 0 \\\\ 0 & 0 & 0 & 0 \\\\ 2 & 2 & 2 & 2 \\end{bmatrix}$$\n",
    "D\n",
    "$$\\begin{bmatrix} 2 & 0 & 0 & 2 \\\\ 0 & 0 & 0 & 0 \\\\ 0 & 0 & 0 & 0 \\\\ 2 & 0 & 0 & 2 \\end{bmatrix}$$"
   ]
  },
  {
   "cell_type": "code",
   "execution_count": null,
   "metadata": {},
   "outputs": [],
   "source": [
    "# A\n",
    "a = np.zeros((4,4))\n",
    "a['###', '###'] = '###'\n",
    "a"
   ]
  },
  {
   "cell_type": "code",
   "execution_count": null,
   "metadata": {},
   "outputs": [],
   "source": [
    "# B\n",
    "b = np.zeros((4,4))\n",
    "b['###', '###'] = '###'\n",
    "b"
   ]
  },
  {
   "cell_type": "code",
   "execution_count": null,
   "metadata": {},
   "outputs": [],
   "source": [
    "# C\n",
    "c = np.zeros((4,4))\n",
    "c['###', '###'] = '###'\n",
    "c"
   ]
  },
  {
   "cell_type": "code",
   "execution_count": null,
   "metadata": {},
   "outputs": [],
   "source": [
    "# D\n",
    "d = np.zeros((4,4))\n",
    "d['###', '###'] = '###'\n",
    "d"
   ]
  },
  {
   "cell_type": "markdown",
   "metadata": {},
   "source": [
    "#### <center><b> Exercise 2\n",
    "\n",
    "Generate a sequence of the first 10000 powers of 2 in a numpy array (starting at $2^0$).\n",
    "Your output should be an array $[2^0, 2^1, 2^2, 2^3, ...]$."
   ]
  },
  {
   "cell_type": "code",
   "execution_count": null,
   "metadata": {},
   "outputs": [],
   "source": [
    "import time\n",
    "#List version\n",
    "ti=time.time()\n",
    "outloop=[2**i for i in range(10000)]\n",
    "tf=time.time()\n",
    "print('List time: {} seconds'.format(tf-ti))\n",
    "\n",
    "\n",
    "#Numpy version-Complete the code:\n",
    "ti=time.time()\n",
    "out = '###########'\n",
    "tf=time.time()\n",
    "print('NumPy time: {} seconds'.format(tf-ti))"
   ]
  },
  {
   "cell_type": "markdown",
   "metadata": {},
   "source": [
    "******\n",
    "******\n",
    "\n",
    "## <center> <b> Caching</b>\n",
    "\n",
    "### <center> 5 minutes\n",
    "****"
   ]
  },
  {
   "cell_type": "markdown",
   "metadata": {},
   "source": [
    "Imagine you want to determine all the different ways you can reach a specific stair in a staircase by hopping one, two, or three stairs at a time. \n",
    "\n",
    "How many paths are there to the fourth stair? Here are all the different combinations.\n",
    "\n",
    "<img src=\"../img/stairs.png\" alt=\"Drawing\" style=\"width: 500px;\"/>\n",
    "\n",
    "A solution to this problem is to state that;\n",
    "<br>\n",
    "<center> <b>To reach your current stair, you can jump from one stair, two stairs, or three stairs below.</b>\n",
    "<br>\n",
    "    <br>\n",
    "\n",
    "Adding up the number of jump combinations you can use to get to each of those points should give you the total number of possible ways to reach your current position.\n",
    "\n",
    "For 4 stairs, there are 7 combinations. For 3 there is 4, and for 2 there is 2.\n",
    "    \n",
    "The file `stairs.py` implements recursion to solve the problem"
   ]
  },
  {
   "cell_type": "code",
   "execution_count": null,
   "metadata": {},
   "outputs": [],
   "source": [
    "%load stairs.py"
   ]
  },
  {
   "cell_type": "markdown",
   "metadata": {},
   "source": [
    "Create a timing setup and record the time taken for **40 iterations**. Then implement the `lru_cache` and compare the improvement."
   ]
  },
  {
   "cell_type": "code",
   "execution_count": null,
   "metadata": {},
   "outputs": [],
   "source": [
    "# TODO"
   ]
  }
 ],
 "metadata": {
  "kernelspec": {
   "display_name": "Python 3",
   "language": "python",
   "name": "python3"
  },
  "language_info": {
   "codemirror_mode": {
    "name": "ipython",
    "version": 3
   },
   "file_extension": ".py",
   "mimetype": "text/x-python",
   "name": "python",
   "nbconvert_exporter": "python",
   "pygments_lexer": "ipython3",
   "version": "3.8.5"
  }
 },
 "nbformat": 4,
 "nbformat_minor": 4
}
