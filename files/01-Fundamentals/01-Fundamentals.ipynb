{
 "cells": [
  {
   "cell_type": "markdown",
   "metadata": {},
   "source": [
    "<center><img src=\"../img/ICHEC_Logo.png\" alt=\"Drawing\" style=\"width: 500px;\"/>\n",
    "\n"
   ]
  },
  {
   "cell_type": "markdown",
   "metadata": {},
   "source": [
    "# <center> Timing Code & Simple Speed-up Techniques"
   ]
  },
  {
   "cell_type": "markdown",
   "metadata": {},
   "source": [
    "******\n",
    "***\n",
    "## <center> <b>Performance Measurement</b>\n",
    "    \n",
    "Before diving into methods to speed up a code, we need to look at some tools which can help us understand how long our code actually takes to run."
   ]
  },
  {
   "cell_type": "markdown",
   "metadata": {},
   "source": [
    "Performance code profiling is a tool used to identify and analyse the execution of applications, and identify the bits of code that can be improved to achieve a better speed of the calculations or a  better flow of information and memory usage.\n",
    "\n",
    "This form of dynamic program analysis can provide information on several aspects of program optimization, such as:\n",
    "<details>\n",
    "    <summary markdown=\"span\"><b></b></summary>\n",
    "   - How long a method/routine takes to execute?<br>\n",
    "   - How often a routine is called? <br>\n",
    "   - How are memory allocations and garbage collections tracked<br>\n",
    "   - How often web services are called?\n",
    "<br>\n",
    "</details>"
   ]
  },
  {
   "cell_type": "markdown",
   "metadata": {},
   "source": [
    "It is important to **never try and optimise your code on the first try**. Get the code correct first. It is often said that *premature optimization is the root of all evil* when it comes to programming.\n",
    "\n",
    "Before optimising a code, one needs to find out where the time is spent most. Around 90% of the time is spent in 10% of the application.\n",
    "\n",
    "<details>\n",
    "    <summary markdown=\"span\">There are a number of different methods</summary>\n",
    "   <br>\n",
    "   - <code>time</code> module<br>\n",
    "   - <code>timeit</code> module<br>\n",
    "   - <code>cProfile</code> module<br>\n",
    "   - <code>datetime</code> module <br>\n",
    "   - <code>astropy</code> module (mainly used in astronomy)<br>\n",
    "   - Full fledged profiling tools: TAU, Intel Vtune, Python Tools for Visual Studio ...\n",
    "<br>\n",
    "</details>"
   ]
  },
  {
   "cell_type": "markdown",
   "metadata": {},
   "source": [
    "***\n",
    "### [`time`](https://docs.python.org/3/library/time.html)</code> Module</h2>"
   ]
  },
  {
   "cell_type": "markdown",
   "metadata": {},
   "source": [
    "Python's `time` module can be used for measuring time spent in specific part of the program\n",
    "* `time.time()`\n",
    "    - Absolute time; real-world time measured from a fixed point in the past.\n",
    "* In Python 3: `time.perf_counter()`, `time.process_time()`\n",
    "    - Relative time; unit-less value which is proportional to the time elapsed between two instants."
   ]
  },
  {
   "cell_type": "code",
   "execution_count": 1,
   "metadata": {},
   "outputs": [
    {
     "name": "stdout",
     "output_type": "stream",
     "text": [
      "1652264171.399796\n",
      "2.433484803\n",
      "0.885057\n"
     ]
    }
   ],
   "source": [
    "import time\n",
    "\n",
    "print (time.time())\n",
    "\n",
    "print (time.perf_counter()) # includes time elapsed during sleep (CPU counter)\n",
    "print (time.process_time()) # does not include time elapsed during sleep"
   ]
  },
  {
   "cell_type": "code",
   "execution_count": 2,
   "metadata": {},
   "outputs": [
    {
     "name": "stdout",
     "output_type": "stream",
     "text": [
      "Time taken in for loop:  0.00011992454528808594\n"
     ]
    }
   ],
   "source": [
    "t0 = time.time()\n",
    "\n",
    "my_list = []\n",
    "for i in range(500): \n",
    "    my_list.append(0)\n",
    "    \n",
    "t1 = time.time()\n",
    "\n",
    "tf = t1-t0\n",
    "\n",
    "print('Time taken in for loop: ', tf)"
   ]
  },
  {
   "cell_type": "markdown",
   "metadata": {},
   "source": [
    "***\n",
    "### [`timeit`](https://docs.python.org/2/library/timeit.html) Module</h2>\n",
    "\n",
    "* Easy timing of small bits of Python code.\n",
    "* Tries to avoid common pitfalls in measuring execution times.\n",
    "* Works best in command line interface\n",
    "\n",
    "```\n",
    "$ python -m timeit -s \"from my module import func\" \"func()\"\n",
    "\n",
    "10 loops, best of 3: 433 msec per loop\n",
    "```\n",
    "\n",
    "* Python interface (<code>%timeit</code> magic in iPython)\n",
    "\n",
    "```ipython\n",
    "In [1]: from mymodule import func\n",
    "In [2]: %timeit func()\n",
    "```\n",
    "```\n",
    "10 loops, best of 3: 433 msec per loop\n",
    "```"
   ]
  },
  {
   "cell_type": "code",
   "execution_count": 3,
   "metadata": {},
   "outputs": [],
   "source": [
    "import random as rnd\n",
    "import time\n",
    "import math\n",
    "\n",
    "\n",
    "def montecarlo_py(n):\n",
    "    x, y = [], []\n",
    "    for i in range(n):\n",
    "        x.append(rnd.random())\n",
    "        y.append(rnd.random())\n",
    "    pi_xy = [(x[i], y[i]) for i in range(n) if math.sqrt(x[i] ** 2 + y[i] ** 2) <= 1]\n",
    "    return(4 * len(pi_xy) / len(x))\n",
    "    # Estimate for pi"
   ]
  },
  {
   "cell_type": "code",
   "execution_count": 4,
   "metadata": {},
   "outputs": [
    {
     "data": {
      "text/plain": [
       "3.1417"
      ]
     },
     "execution_count": 4,
     "metadata": {},
     "output_type": "execute_result"
    }
   ],
   "source": [
    "montecarlo_py(1000000)"
   ]
  },
  {
   "cell_type": "code",
   "execution_count": 5,
   "metadata": {},
   "outputs": [
    {
     "name": "stdout",
     "output_type": "stream",
     "text": [
      "724 ms ± 6.52 ms per loop (mean ± std. dev. of 7 runs, 1 loop each)\n"
     ]
    }
   ],
   "source": [
    "%timeit montecarlo_py(1000000)"
   ]
  },
  {
   "cell_type": "markdown",
   "metadata": {},
   "source": [
    "Another method is to use a setup like below"
   ]
  },
  {
   "cell_type": "code",
   "execution_count": 6,
   "metadata": {},
   "outputs": [
    {
     "name": "stdout",
     "output_type": "stream",
     "text": [
      "Minimum execution time: 7.153229266\n"
     ]
    }
   ],
   "source": [
    "import timeit\n",
    "\n",
    "setup_code = \"from __main__ import montecarlo_py\"\n",
    "stmt = \"montecarlo_py(1000000)\"\n",
    "times = timeit.repeat(setup=setup_code, stmt=stmt, repeat=3, number=10)\n",
    "print(f\"Minimum execution time: {min(times)}\")"
   ]
  },
  {
   "cell_type": "markdown",
   "metadata": {},
   "source": [
    "****\n",
    "## [`cProfile`](https://docs.python.org/2/library/profile.html#module-cProfile)"
   ]
  },
  {
   "cell_type": "markdown",
   "metadata": {},
   "source": [
    "* cProfile provides an API for profiling your Python program\n",
    "    * A profile is a set of stats\n",
    "    * Time spent in different parts of the program\n",
    "\n",
    "```python\n",
    "# profile statement and save results to a file func.prof\n",
    "cProfile.run('func()', 'func.prof')\n",
    "```"
   ]
  },
  {
   "cell_type": "code",
   "execution_count": 7,
   "metadata": {},
   "outputs": [
    {
     "name": "stdout",
     "output_type": "stream",
     "text": [
      "         5000007 function calls in 1.391 seconds\n",
      "\n",
      "   Ordered by: standard name\n",
      "\n",
      "   ncalls  tottime  percall  cumtime  percall filename:lineno(function)\n",
      "        1    0.495    0.495    0.558    0.558 <ipython-input-3-7987cc796f5a>:11(<listcomp>)\n",
      "        1    0.501    0.501    1.338    1.338 <ipython-input-3-7987cc796f5a>:6(montecarlo_py)\n",
      "        1    0.053    0.053    1.391    1.391 <string>:1(<module>)\n",
      "        1    0.000    0.000    1.391    1.391 {built-in method builtins.exec}\n",
      "        2    0.000    0.000    0.000    0.000 {built-in method builtins.len}\n",
      "  1000000    0.063    0.000    0.063    0.000 {built-in method math.sqrt}\n",
      "  2000000    0.128    0.000    0.128    0.000 {method 'append' of 'list' objects}\n",
      "        1    0.000    0.000    0.000    0.000 {method 'disable' of '_lsprof.Profiler' objects}\n",
      "  2000000    0.150    0.000    0.150    0.000 {method 'random' of '_random.Random' objects}\n",
      "\n",
      "\n"
     ]
    }
   ],
   "source": [
    "import cProfile\n",
    "cProfile.run('montecarlo_py(1000000)')"
   ]
  },
  {
   "cell_type": "markdown",
   "metadata": {},
   "source": [
    "This can be modified to save the output to a `.prof` file.\n",
    "```python\n",
    "cProfile.run('func()', 'func.prof')\n",
    "```\n",
    "But there is not much point of this for a small function like this which has a limited runtime. We will look at another file, and this time run it through the terminal, and generate the `.prof` file."
   ]
  },
  {
   "cell_type": "code",
   "execution_count": 8,
   "metadata": {},
   "outputs": [
    {
     "name": "stdout",
     "output_type": "stream",
     "text": [
      "Running Time: 20.20987105369568\r\n"
     ]
    }
   ],
   "source": [
    "!python -m cProfile -o heat_equation_simple.prof heat_equation_simple.py"
   ]
  },
  {
   "cell_type": "markdown",
   "metadata": {},
   "source": [
    "We need a separate module to look at the profile we have just created."
   ]
  },
  {
   "cell_type": "markdown",
   "metadata": {},
   "source": [
    "***\n",
    "### Investigating Profile with [`pstats`](https://docs.python.org/3/library/profile.html#module-pstats)\n",
    "\n",
    "* Prints execution time of selected functions. \n",
    "* Sorts by function name, time, cumulative time, ... \n",
    "* Python module interface and interactive browser"
   ]
  },
  {
   "cell_type": "code",
   "execution_count": 9,
   "metadata": {},
   "outputs": [
    {
     "name": "stdout",
     "output_type": "stream",
     "text": [
      "Wed May 11 11:17:04 2022    heat_equation_simple.prof\n",
      "\n",
      "         1007265 function calls (988402 primitive calls) in 22.701 seconds\n",
      "\n",
      "   Ordered by: internal time\n",
      "   List reduced from 5896 to 10 due to restriction <10>\n",
      "\n",
      "   ncalls  tottime  percall  cumtime  percall filename:lineno(function)\n",
      "      200   20.209    0.101   20.209    0.101 evolve.py:1(evolve)\n",
      "      797    0.841    0.001    0.841    0.001 {built-in method io.open_code}\n",
      "    68/66    0.178    0.003    0.183    0.003 {built-in method _imp.create_dynamic}\n",
      "        1    0.135    0.135    0.135    0.135 {built-in method mkl._py_mkl_service.get_version}\n",
      "      797    0.128    0.000    0.128    0.000 {built-in method marshal.loads}\n",
      "      797    0.118    0.000    0.118    0.000 {method 'read' of '_io.BufferedReader' objects}\n",
      "     3692    0.059    0.000    0.059    0.000 {built-in method posix.stat}\n",
      "      797    0.043    0.000    1.002    0.001 <frozen importlib._bootstrap_external>:969(get_data)\n",
      " 2528/979    0.038    0.000    1.107    0.001 {built-in method builtins.__build_class__}\n",
      "       36    0.035    0.001    0.035    0.001 {built-in method io.open}\n",
      "\n",
      "\n"
     ]
    },
    {
     "data": {
      "text/plain": [
       "<pstats.Stats at 0x7fe1a5f6c550>"
      ]
     },
     "execution_count": 9,
     "metadata": {},
     "output_type": "execute_result"
    }
   ],
   "source": [
    "from pstats import Stats\n",
    "p = Stats('heat_equation_simple.prof')\n",
    "\n",
    "p.strip_dirs() #The strip_dirs() method removes the extraneous path from all the module names\n",
    "\n",
    "# Other string options include 'cumulative', 'name', 'ncalls'\n",
    "p.sort_stats('time').print_stats(10)"
   ]
  },
  {
   "cell_type": "markdown",
   "metadata": {},
   "source": [
    "Using this for longer programs and more functions can help you pin down the functions in your code which need optimisation.\n",
    "\n",
    "#### Using `pstats` in the terminal\n",
    "\n",
    "```\n",
    "$ python -m pstats myprof.prof\n",
    "Welcome to the profile statistics\n",
    "% strip\n",
    "% sort time\n",
    "% stats 5\n",
    "\n",
    "Mon May 11 09:28:00 2020 my.prof\n",
    "...\n",
    "```"
   ]
  },
  {
   "cell_type": "markdown",
   "metadata": {},
   "source": [
    "****\n",
    "# <center> [Exercise](./01-Exercise-Fundamentals.ipynb)"
   ]
  },
  {
   "cell_type": "markdown",
   "metadata": {},
   "source": [
    "****\n",
    "****\n",
    "<center><img src=\"../img/NumPy_Logo.png\" alt=\"Drawing\" style=\"width: 300px;\"/>\n",
    "\n",
    "    \n",
    "## <center> <b>NumPy - Fast Array Interface</b>"
   ]
  },
  {
   "cell_type": "markdown",
   "metadata": {},
   "source": [
    "### Python Lists"
   ]
  },
  {
   "cell_type": "markdown",
   "metadata": {},
   "source": [
    "One of the 4 main data types in Python:\n",
    "- lists `[1,2,3]`\n",
    "- tuples `(1,2,3)`\n",
    "- dictionaries `{\"Food\" : \"fruit\", \"Type\" : \"banana\"}`\n",
    "- sets `{\"apple\", \"banana\"}`"
   ]
  },
  {
   "cell_type": "markdown",
   "metadata": {},
   "source": [
    "![<Diagram 1>](../img/1_pylist.png)\n",
    "\n",
    "Lists are ordered, changeable, start at index `[0]`, and can store all types of variables, including other data types."
   ]
  },
  {
   "cell_type": "code",
   "execution_count": 10,
   "metadata": {},
   "outputs": [
    {
     "data": {
      "text/plain": [
       "[1, 2.1, '3', (4, 5.2), [6, {7.3: '8'}, 9]]"
      ]
     },
     "execution_count": 10,
     "metadata": {},
     "output_type": "execute_result"
    }
   ],
   "source": [
    "# Flexiblilty of standard python array\n",
    "a = [1, 2.1, '3', (4, 5.2), [6, {7.3 : '8'}, 9]]\n",
    "a"
   ]
  },
  {
   "cell_type": "markdown",
   "metadata": {},
   "source": [
    "<details>\n",
    "    <summary markdown=\"span\"><b>Features of the Python List</b></summary>\n",
    "<br>\n",
    "   - Dynamic, elements of different types, including other types of 'array'<br>\n",
    "   - Multiple dimensions<br>\n",
    "   - Subarrays can have different number of elements<br>\n",
    "<br>\n",
    "<details>\n",
    "    <summary markdown=\"span\"><b>In short they are very flexible but not good in practice, why?</b></summary>\n",
    "<br>\n",
    "- Python has the luxury of being programmable without the user caring about the data types they are using. \n",
    "<br>\n",
    "- Lists may be flexible but also slow to process in numerical computations.\n",
    "<br>\n",
    "- These are arrays of pointers to objects in sparse locations in memory, which cannot be easily cached and thus reading its values becomes a slower task.\n",
    "</details>\n",
    "</details>\n",
    " "
   ]
  },
  {
   "cell_type": "markdown",
   "metadata": {},
   "source": [
    "<div class=\"alert alert-block alert-info\">\n",
    "<b>To become efficient in Data-driven programming and computation requires a good understanding of how data is stored and manipulated. This will help you in the long run. In statically typed languages like C++ or Java, all the variables have to be declared explicitly, a dynamically typed language like Python skips this step and is why it is more popular. This does have drawbacks when it comes to performance</b></div>"
   ]
  },
  {
   "cell_type": "markdown",
   "metadata": {},
   "source": [
    "Thankfully, simple libraries like NumPy can assist with this"
   ]
  },
  {
   "cell_type": "markdown",
   "metadata": {},
   "source": [
    "****\n",
    "## NumPy arrays\n",
    "<br>\n",
    "<details>\n",
    "    <summary markdown=\"span\"><b>Features of the NumPy array</b></summary>\n",
    "<br>\n",
    "   - Provides a convenient interface for working with multi-dimensional array data structures efficiently.<br>\n",
    "   - Arrays use contiguous blocks of memory that can be effectively cached by the CPU. <br>\n",
    "   - NumPy sacrifices Python's flexibility to achieve low-memory usage and speed-up, as NumPy arrays have a fixed size and the datatype of its element must be homogeneous.<br>\n",
    "   - Written in C, which is known for being a efficient programming language in terms of speed and memory usage.<br>\n",
    "<br>\n",
    "</details>\n",
    "<br>\n",
    "\n",
    "![<Diagram 2>](../img/1_numpy_arr.png)"
   ]
  },
  {
   "cell_type": "markdown",
   "metadata": {},
   "source": [
    "NumPy arrays can be created from a Python list or tuple by using NumPy’s `array` function. The dimensionaility and shape of the resulting array will be determined by the given input. NumPy offers several functions for creating arrays, depending on the desired content and shape of the array.\n",
    "\n",
    "When creating an array, NumPy will try to convert entries to convinient data type. If it is not possible, it will raise an error.\n",
    "\n",
    "Link to Numpy documentation: [`array`](https://numpy.org/doc/stable/reference/generated/numpy.array.html?highlight=array#numpy.array)"
   ]
  },
  {
   "cell_type": "code",
   "execution_count": 11,
   "metadata": {},
   "outputs": [
    {
     "name": "stdout",
     "output_type": "stream",
     "text": [
      "a: NumPy array from Python list\n",
      " [1. 2. 3. 4.] \n",
      "\n",
      "b: 3D NumPy array\n",
      " [[[1.  2.2]\n",
      "  [3.  4. ]]\n",
      "\n",
      " [[5.  6.6]\n",
      "  [7.8 9. ]]]\n"
     ]
    }
   ],
   "source": [
    "import numpy as np\n",
    "# Creation from Python list\n",
    "a = np.array((1,'2',3,4), float)\n",
    "\n",
    "# Creation of 3D numpy array\n",
    "b = np.array([[[1, 2.2],[3, 4]],[[5,6.6],[7.8, 9]]])\n",
    "\n",
    "print(\"a: NumPy array from Python list\\n\", a, \"\\n\")\n",
    "print(\"b: 3D NumPy array\\n\", b)"
   ]
  },
  {
   "cell_type": "markdown",
   "metadata": {},
   "source": [
    "<br>\n",
    "<details>\n",
    "    <summary markdown=\"span\"><b>The features of the above NumPy array:</b></summary>\n",
    "<br>\n",
    "- Can have multiple dimensions<br>\n",
    "- All elements have the same type<br>\n",
    "- Number of elements in the array is fixed<br>\n",
    "<br>\n",
    "</details>"
   ]
  },
  {
   "cell_type": "markdown",
   "metadata": {},
   "source": [
    "Understanding the shape and size of arrays is crucial in applications such as machine deep learning. You will often need to reshape arrays."
   ]
  },
  {
   "cell_type": "code",
   "execution_count": 12,
   "metadata": {},
   "outputs": [
    {
     "name": "stdout",
     "output_type": "stream",
     "text": [
      "Array b:\n",
      " [[[1.  2.2]\n",
      "  [3.  4. ]]\n",
      "\n",
      " [[5.  6.6]\n",
      "  [7.8 9. ]]]\n",
      "\n",
      "Shape:\n",
      " (2, 2, 2)\n",
      "\n",
      "Size:\n",
      " 8 \n",
      "\n",
      "Array b_new:\n",
      " [[1.  2.2 3.  4.  5.  6.6 7.8 9. ]] (1, 8) 8\n"
     ]
    }
   ],
   "source": [
    "# Determine shape of array b\n",
    "print(\"Array b:\\n\", b,)\n",
    "print(\"\\nShape:\\n\", b.shape)\n",
    "print(\"\\nSize:\\n\", b.size, \"\\n\")\n",
    "\n",
    "# Reshape b into a 1x8 matrix\n",
    "b_new = b.reshape(1,8)\n",
    "print(\"Array b_new:\\n\", b_new, b_new.shape, b_new.size)"
   ]
  },
  {
   "cell_type": "markdown",
   "metadata": {},
   "source": [
    "This is fine, but creates an issue with storage, particularly for large arrays. As we no longer need array `b`, we can get rid of it with `del`."
   ]
  },
  {
   "cell_type": "code",
   "execution_count": 13,
   "metadata": {},
   "outputs": [],
   "source": [
    "del b"
   ]
  },
  {
   "cell_type": "code",
   "execution_count": 14,
   "metadata": {},
   "outputs": [
    {
     "ename": "NameError",
     "evalue": "name 'b' is not defined",
     "output_type": "error",
     "traceback": [
      "\u001b[0;31m---------------------------------------------------------------------------\u001b[0m",
      "\u001b[0;31mNameError\u001b[0m                                 Traceback (most recent call last)",
      "\u001b[0;32m<ipython-input-14-67e500defa1b>\u001b[0m in \u001b[0;36m<module>\u001b[0;34m\u001b[0m\n\u001b[0;32m----> 1\u001b[0;31m \u001b[0mprint\u001b[0m\u001b[0;34m(\u001b[0m\u001b[0mb\u001b[0m\u001b[0;34m)\u001b[0m\u001b[0;34m\u001b[0m\u001b[0;34m\u001b[0m\u001b[0m\n\u001b[0m",
      "\u001b[0;31mNameError\u001b[0m: name 'b' is not defined"
     ]
    }
   ],
   "source": [
    "print(b)"
   ]
  },
  {
   "cell_type": "markdown",
   "metadata": {},
   "source": [
    "In statically typed languages, one should always free up the memory taken up by variables, usually with keywords such as `free` "
   ]
  },
  {
   "cell_type": "markdown",
   "metadata": {},
   "source": [
    "***\n",
    "### NumPy Array Indexing\n",
    "\n",
    "Indexing and Slicing are the most important concepts in working with arrays."
   ]
  },
  {
   "cell_type": "markdown",
   "metadata": {},
   "source": [
    "**Indexing**"
   ]
  },
  {
   "cell_type": "code",
   "execution_count": 15,
   "metadata": {},
   "outputs": [
    {
     "data": {
      "text/plain": [
       "2"
      ]
     },
     "execution_count": 15,
     "metadata": {},
     "output_type": "execute_result"
    }
   ],
   "source": [
    "mat1d = np.array([1,2,3,4,5,6])\n",
    "mat1d[1]"
   ]
  },
  {
   "cell_type": "code",
   "execution_count": 16,
   "metadata": {},
   "outputs": [
    {
     "name": "stdout",
     "output_type": "stream",
     "text": [
      "3 [[1 2 3]]\n"
     ]
    }
   ],
   "source": [
    "mat2d = np.array([[1,2,3], [4,5,6]])\n",
    "print(mat2d[0,2], mat2d[:1])"
   ]
  },
  {
   "cell_type": "code",
   "execution_count": 17,
   "metadata": {},
   "outputs": [
    {
     "name": "stdout",
     "output_type": "stream",
     "text": [
      "[[[ 1 14 31 28]\n",
      "  [ 2 32 38 33]]\n",
      "\n",
      " [[22 29 35  5]\n",
      "  [47 38 10 37]]\n",
      "\n",
      " [[44  7 49 34]\n",
      "  [ 7 15  2 45]]\n",
      "\n",
      " [[15 27 37 11]\n",
      "  [38 40 34  7]]]\n"
     ]
    },
    {
     "data": {
      "text/plain": [
       "34"
      ]
     },
     "execution_count": 17,
     "metadata": {},
     "output_type": "execute_result"
    }
   ],
   "source": [
    "mat3d = np.random.randint(1,50,(4,2,4))\n",
    "print(mat3d)\n",
    "mat3d[3,1,2]"
   ]
  },
  {
   "cell_type": "markdown",
   "metadata": {},
   "source": [
    "**Slicing**"
   ]
  },
  {
   "cell_type": "code",
   "execution_count": 18,
   "metadata": {},
   "outputs": [
    {
     "name": "stdout",
     "output_type": "stream",
     "text": [
      "[0 1 2 3 4 5 6 7 8 9]\n"
     ]
    },
    {
     "data": {
      "text/plain": [
       "array([3, 4, 5, 6, 7, 8, 9])"
      ]
     },
     "execution_count": 18,
     "metadata": {},
     "output_type": "execute_result"
    }
   ],
   "source": [
    "mat1d = np.arange(10)\n",
    "print(mat1d)\n",
    "mat1d[3:]"
   ]
  },
  {
   "cell_type": "code",
   "execution_count": 19,
   "metadata": {},
   "outputs": [
    {
     "data": {
      "text/plain": [
       "array([0, 1, 2, 3, 4, 5, 6, 7])"
      ]
     },
     "execution_count": 19,
     "metadata": {},
     "output_type": "execute_result"
    }
   ],
   "source": [
    "mat1d[:-2]"
   ]
  },
  {
   "cell_type": "code",
   "execution_count": 20,
   "metadata": {},
   "outputs": [
    {
     "data": {
      "text/plain": [
       "array([1, 3, 5])"
      ]
     },
     "execution_count": 20,
     "metadata": {},
     "output_type": "execute_result"
    }
   ],
   "source": [
    "mat1d[1:7:2]"
   ]
  },
  {
   "cell_type": "code",
   "execution_count": 21,
   "metadata": {},
   "outputs": [
    {
     "name": "stdout",
     "output_type": "stream",
     "text": [
      "[[[7 1 6 6]\n",
      "  [5 5 9 2]\n",
      "  [2 1 3 3]]\n",
      "\n",
      " [[4 6 7 3]\n",
      "  [3 5 1 3]\n",
      "  [2 5 2 9]]\n",
      "\n",
      " [[7 2 5 3]\n",
      "  [9 3 7 9]\n",
      "  [9 1 2 4]]\n",
      "\n",
      " [[7 1 4 4]\n",
      "  [3 5 9 4]\n",
      "  [5 3 7 9]]]\n"
     ]
    }
   ],
   "source": [
    "mat3d = np.random.randint(1,10,(4,3,4))\n",
    "print(mat3d)\n"
   ]
  },
  {
   "cell_type": "code",
   "execution_count": 22,
   "metadata": {},
   "outputs": [
    {
     "data": {
      "text/plain": [
       "array([[[99,  1, 99,  6],\n",
       "        [99,  5, 99,  2],\n",
       "        [ 2,  1,  3,  3]],\n",
       "\n",
       "       [[99,  6, 99,  3],\n",
       "        [99,  5, 99,  3],\n",
       "        [ 2,  5,  2,  9]],\n",
       "\n",
       "       [[99,  2, 99,  3],\n",
       "        [99,  3, 99,  9],\n",
       "        [ 9,  1,  2,  4]],\n",
       "\n",
       "       [[ 7,  1,  4,  4],\n",
       "        [ 3,  5,  9,  4],\n",
       "        [ 5,  3,  7,  9]]])"
      ]
     },
     "execution_count": 22,
     "metadata": {},
     "output_type": "execute_result"
    }
   ],
   "source": [
    "mat3d[0:3, 0:2, 0:4:2] = 99\n",
    "mat3d"
   ]
  },
  {
   "cell_type": "markdown",
   "metadata": {},
   "source": [
    "* There are many possible ways of arranging items of $N-$dimensional array in a 1-dimensional block.\n",
    "* NumPy uses striding where $N-$dimensional index; $ n_0, n_1, ... n_{(N-1)} $ corresponds to offset from the beginning of 1-dimensional block.\n",
    "\n",
    "<img src=\"../img/1.3.2.png\" alt=\"Drawing\" style=\"width: 500px;\"/>"
   ]
  },
  {
   "cell_type": "markdown",
   "metadata": {},
   "source": [
    "<center><code>a = np.array(..)</code></center>\n",
    "    \n",
    "* `a.flags` - Various information about memory layout.\n",
    "* `a.strides` - Bytes to step in each dimension when traversing. \n",
    "* `a.itemsize` - Size of one array element in bytes.\n",
    "* `a.data` - Python buffer object pointing to start of arrays data. \n",
    "* `a.__array_interface__` - Python internal interface."
   ]
  },
  {
   "cell_type": "markdown",
   "metadata": {},
   "source": [
    "This should be familiar, so feel free to check out the NumPy documentation for more utilisation of functions"
   ]
  },
  {
   "cell_type": "markdown",
   "metadata": {},
   "source": [
    "***\n",
    "### Vectorisation"
   ]
  },
  {
   "cell_type": "markdown",
   "metadata": {},
   "source": [
    "<details>\n",
    "    <summary markdown=\"span\"><b>Why use vectorisation?</b></summary>\n",
    "<br>\n",
    "    - <code>for</code> loops in Python are very slow<br>\n",
    "    - vectorisation is an example of a SIMD operation<br>\n",
    "    - one instruction carries out many operands in parallel<br>\n",
    "    - less overhead compared to <code>for</code> loops<br>\n",
    "</details>\n",
    "<br>\n",
    "Lets look at a difference example"
   ]
  },
  {
   "cell_type": "code",
   "execution_count": 23,
   "metadata": {},
   "outputs": [],
   "source": [
    "def loop_it(n):\n",
    "    t0 = time.time()\n",
    "    arr = np.arange(n)\n",
    "    dif = np.zeros(n-1, int)\n",
    "    for i in range(1, len(arr)):\n",
    "        dif[i-1] = arr[i] - arr[i-1]\n",
    "    t1 = time.time()\n",
    "    print('Loop version: {} seconds'.format(t1-t0))\n",
    "    return dif\n",
    "    \n",
    "def vectorise_it(n):\n",
    "    t0 = time.time()\n",
    "    arr = np.arange(n)\n",
    "    dif = arr[1:] - arr[:-1]\n",
    "    t1 = time.time()\n",
    "    print('Vectorised version: {} seconds'.format(t1-t0))\n",
    "    return dif"
   ]
  },
  {
   "cell_type": "code",
   "execution_count": 24,
   "metadata": {},
   "outputs": [
    {
     "name": "stdout",
     "output_type": "stream",
     "text": [
      "Loop version: 4.1977081298828125 seconds\n",
      "Vectorised version: 0.02220916748046875 seconds\n"
     ]
    },
    {
     "data": {
      "text/plain": [
       "array([1, 1, 1, ..., 1, 1, 1])"
      ]
     },
     "execution_count": 24,
     "metadata": {},
     "output_type": "execute_result"
    }
   ],
   "source": [
    "n=10000000\n",
    "loop_it(n)\n",
    "vectorise_it(n)"
   ]
  },
  {
   "cell_type": "markdown",
   "metadata": {},
   "source": [
    "***\n",
    "# <center> [Exercise](./01-Exercise-Fundamentals.ipynb)"
   ]
  },
  {
   "cell_type": "markdown",
   "metadata": {},
   "source": [
    "***\n",
    "***\n",
    "## <center> <b>Caching</b>"
   ]
  },
  {
   "cell_type": "markdown",
   "metadata": {},
   "source": [
    "### What is the cache?\n",
    "\n",
    "The cache is a part of the computer's memory. Caching can provide an application performance boost as it is faster to access data from the temporary location than it is to fetch the data from the source each time.\n",
    "<br>\n",
    "<br>\n",
    "<details>\n",
    "    <summary markdown=\"span\"><b>A computer's memory can consists of three elements</b></summary>\n",
    "<br>\n",
    "   - Main memory (RAM or ROM): <br>\n",
    "   - Secondary memory<br>\n",
    "   - Cache: Acts as a buffer betwwen the CPU and main memory, used to hold parts of data and program most frequently used by the CPU.<br>\n",
    "<br>\n",
    "</details>\n",
    "<br>\n",
    "<details>\n",
    "    <summary markdown=\"span\"><b>The main rules of caching:</b></summary>\n",
    "<br>\n",
    "   - If a function is frequently called, its output is not changing often and it takes a long time to execute, it is a suitable candidate to implement caching. <br>\n",
    "   - Caching should be faster than getting the data from the current data source<br>\n",
    "   - Caching impacts memory footprint, so it is crucial to choose and cache the data structures and attributes that need to be cached.<br>\n",
    "<br>\n",
    "</details>\n"
   ]
  },
  {
   "cell_type": "markdown",
   "metadata": {},
   "source": [
    "***\n",
    "### What is caching?\n",
    "\n",
    "Caching itself is an optimization strategy that you can use in your applications to keep recent or often used data in memory locations that are faster to access."
   ]
  },
  {
   "cell_type": "markdown",
   "metadata": {},
   "source": [
    "The LRU (Least Recently Used) Cache discatds the least recently used items first. The algorithm keeps track of;\n",
    "* what was used "
   ]
  },
  {
   "cell_type": "markdown",
   "metadata": {},
   "source": [
    "The [`functools`](https://docs.python.org/3/library/functools.html) module deals with high-order functions:\n",
    "- functions which operate on \n",
    "- returning functions\n",
    "- other callable objects\n",
    "\n",
    "The `lru_cache()` helps reduce the execution time of the function by using the memoization technique"
   ]
  },
  {
   "cell_type": "markdown",
   "metadata": {},
   "source": [
    "Caching in action for the Fibonacci sequence. The least recently used algorithm can cache the return values that are dependent on the arguments that have been passed to the function."
   ]
  },
  {
   "cell_type": "code",
   "execution_count": null,
   "metadata": {},
   "outputs": [],
   "source": [
    "def fib(n):\n",
    "    if n < 2:\n",
    "        return n\n",
    "    else:\n",
    "        return fib(n-1) + fib(n-2)\n",
    "\n",
    "t1 = timeit.Timer(\"fib(40)\", \"from __main__ import fib\")\n",
    "\n",
    "print(t1.timeit(1))"
   ]
  },
  {
   "cell_type": "markdown",
   "metadata": {},
   "source": [
    "<details>\n",
    "    <summary markdown=\"span\"><b></b></summary>\n",
    "    Not great is it? So lets add in the <code>lru_cache</code> decorator.\n",
    "</details>"
   ]
  },
  {
   "cell_type": "code",
   "execution_count": null,
   "metadata": {},
   "outputs": [],
   "source": [
    "from functools import lru_cache\n",
    "\n",
    "@lru_cache(maxsize=100)\n",
    "def fib(n):\n",
    "    if n < 2:\n",
    "        return n\n",
    "    else:\n",
    "        return fib(n-1) + fib(n-2)\n",
    "    \n",
    "t1 = timeit.Timer(\"fib(40)\", \"from __main__ import fib\")\n",
    "\n",
    "print(t1.timeit(1))"
   ]
  },
  {
   "cell_type": "markdown",
   "metadata": {},
   "source": [
    "<details>\n",
    "    <summary markdown=\"span\"><b></b></summary>\n",
    "    A significant improvement, and only by adding two lines of code!\n",
    "</details>\n"
   ]
  },
  {
   "cell_type": "markdown",
   "metadata": {},
   "source": [
    "***\n",
    "# <center> [Exercise](./01-Exercise-Fundamentals.ipynb)\n",
    "****\n",
    "****"
   ]
  }
 ],
 "metadata": {
  "kernelspec": {
   "display_name": "Python 3",
   "language": "python",
   "name": "python3"
  },
  "language_info": {
   "codemirror_mode": {
    "name": "ipython",
    "version": 3
   },
   "file_extension": ".py",
   "mimetype": "text/x-python",
   "name": "python",
   "nbconvert_exporter": "python",
   "pygments_lexer": "ipython3",
   "version": "3.8.5"
  }
 },
 "nbformat": 4,
 "nbformat_minor": 4
}
