{
 "cells": [
  {
   "cell_type": "markdown",
   "id": "11b9cb40",
   "metadata": {},
   "source": [
    "# Exercise 2\n",
    "\n",
    "- Using dask arrays expand the $pi$ calculation to use a 100GB array.\n",
    "\n",
    "- This is still smaller than the total memory per node (~180GB).\n",
    "\n",
    "- We should be careful in deciding the memory per worker and threads per worker.\n",
    "\n",
    "- Modify the code below and submit."
   ]
  },
  {
   "cell_type": "code",
   "execution_count": null,
   "id": "73a21145",
   "metadata": {},
   "outputs": [],
   "source": [
    "%%writefile dask_calculate_pi.py\n",
    "\n",
    "import dask\n",
    "from dask.distributed import Client\n",
    "import numpy as np\n",
    "import dask.array as da\n",
    "\n",
    "\n",
    "def dask_calculate_pi(size_in_bytes,nchunks):\n",
    "    \n",
    "    \"\"\"Calculate pi using a Monte Carlo method.\"\"\"\n",
    "    \n",
    "    rand_array_shape = (int(size_in_bytes / 8 / 2), 2)\n",
    "    chunk_size = int(rand_array_shape[0]/nchunks)\n",
    "    \n",
    "    # 2D random array with positions (x, y)\n",
    "    xy = da.random.uniform(low=0.0, high=1.0, size=rand_array_shape, chunks=chunk_size)\n",
    "    print(xy)\n",
    "    \n",
    "    # check if position (x, y) is in unit circle\n",
    "    xy_inside_circle = (xy ** 2).sum(axis=1) < 1\n",
    "\n",
    "    # pi is the fraction of points in circle x 4\n",
    "    pi = 4 * xy_inside_circle.sum() / xy_inside_circle.size\n",
    "    \n",
    "    result = pi.compute()\n",
    "\n",
    "    print(f\"\\nfrom {xy.nbytes / 1e9} GB randomly chosen positions\")\n",
    "    print(f\"   pi estimate: {result}\")\n",
    "    print(f\"   pi error: {abs(result - np.pi)}\\n\")\n",
    "    \n",
    "    return result\n",
    "\n",
    "\n",
    "if __name__ == '__main__':\n",
    "    \n",
    "# Run dask_calculate_pi with 100GB array"
   ]
  },
  {
   "cell_type": "code",
   "execution_count": null,
   "id": "39cbf353",
   "metadata": {},
   "outputs": [],
   "source": [
    "%%writefile dask_calculate_pi.slurm\n",
    "\n",
    "#!/bin/bash\n",
    "#SBATCH --nodes=1\n",
    "#SBATCH --time=00:10:00\n",
    "#SBATCH -A course\n",
    "#SBATCH --job-name=calpi\n",
    "#SBATCH -p CourseDevQ\n",
    "#SBATCH --reservation=CourseMay\n",
    "\n",
    "\n",
    "module purge\n",
    "module load conda\n",
    "module list\n",
    "\n",
    "source activate /ichec/home/users/course00/conda_HPC\n",
    "\n",
    "cd $SLURM_SUBMIT_DIR\n",
    "\n",
    "\n",
    "python -u dask_calculate_pi.py\n",
    "\n",
    "exit 0"
   ]
  }
 ],
 "metadata": {
  "kernelspec": {
   "display_name": "Python 3 (ipykernel)",
   "language": "python",
   "name": "python3"
  },
  "language_info": {
   "codemirror_mode": {
    "name": "ipython",
    "version": 3
   },
   "file_extension": ".py",
   "mimetype": "text/x-python",
   "name": "python",
   "nbconvert_exporter": "python",
   "pygments_lexer": "ipython3",
   "version": "3.7.13"
  }
 },
 "nbformat": 4,
 "nbformat_minor": 5
}
