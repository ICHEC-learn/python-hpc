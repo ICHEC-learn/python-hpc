{
 "cells": [
  {
   "cell_type": "markdown",
   "metadata": {},
   "source": [
    "<center><img src=\"../../fig/ICHEC_Logo.jpg\" alt=\"Drawing\" style=\"width: 500px;\"/><center/>\n",
    "<br>\n",
    "<img src=\"../../fig/notebooks/Jupyter_Logo.png\" alt=\"Drawing\" style=\"width: 100px;\"/>"
   ]
  },
  {
   "cell_type": "markdown",
   "metadata": {},
   "source": [
    "# <center>Course Materials and JupyterHub<center/>"
   ]
  },
  {
   "cell_type": "markdown",
   "metadata": {},
   "source": [
    "## Log in\n",
    "\n",
    "- You will be using a dedicated course account on the ICHEC spuercomputer Kay.\n",
    "\n",
    "- It is best to use this even if you have your own account.\n",
    "\n",
    "- You must send us a valid public ssh key before you can access the account.\n",
    "\n",
    "- Information about the account name and password will be sent to you."
   ]
  },
  {
   "cell_type": "markdown",
   "metadata": {},
   "source": [
    "## Course Material\n",
    "\n",
    "- The course will be delivered via jupyter notebooks. \n",
    "\n",
    "- This will allow you to run python code on the fly directly on Kay.\n",
    "\n",
    "- Here are some basics about jupyter notebooks. "
   ]
  },
  {
   "cell_type": "markdown",
   "metadata": {},
   "source": [
    "### Jupyter Notebook\n",
    "\n",
    "- There are two types of cell used here.\n",
    "\n",
    "- Markdown cells which has test like this one.\n",
    "\n",
    "- Code cells which contain python code.\n",
    "\n",
    "- There is an example of a code cell below. "
   ]
  },
  {
   "cell_type": "code",
   "execution_count": null,
   "metadata": {},
   "outputs": [],
   "source": [
    "import numpy"
   ]
  },
  {
   "cell_type": "markdown",
   "metadata": {},
   "source": [
    "- Code cells are executed by using the \"Run\" button at the top just under a set of menus.\n",
    "\n",
    "- You can edit these cells just by typing and then rerun."
   ]
  },
  {
   "cell_type": "markdown",
   "metadata": {},
   "source": [
    "- You may wish to ediut the Markdown cells.\n",
    "\n",
    "- When the cell is selected press **return** on the keyboard.\n",
    "\n",
    "- The display should change and you can edit the cell.\n",
    "\n",
    "- To get back the original type setting \"run\" the cell like the code cells."
   ]
  },
  {
   "cell_type": "markdown",
   "metadata": {},
   "source": [
    "- Code cells are setup to run python commands.\n",
    "\n",
    "- However it is possible to run shell commands from the notebook.\n",
    "\n",
    "- To do this a \"!\" is needed at the beginning of the line."
   ]
  },
  {
   "cell_type": "markdown",
   "metadata": {},
   "source": [
    "- Use the command below (on Kay) to copy over the course material."
   ]
  },
  {
   "cell_type": "code",
   "execution_count": null,
   "metadata": {},
   "outputs": [],
   "source": [
    "!cp -R /ichec/home/users/course00/material/* ."
   ]
  },
  {
   "cell_type": "markdown",
   "metadata": {},
   "source": [
    "<div class=\"alert alert-block alert-info\">\n",
    "<b>Solutions are available during the course. <b/>\n",
    "</div>"
   ]
  },
  {
   "cell_type": "markdown",
   "metadata": {},
   "source": [
    "## Jupyterhub\n",
    "    \n",
    "- Jupyterhub will allow us to run the jupyter notebooks on Kay from our local web browser.\n",
    "\n",
    "- There are a few things to do first."
   ]
  },
  {
   "cell_type": "markdown",
   "metadata": {},
   "source": [
    "### Conda\n",
    "\n",
    "- Python can be customised in many different ways.\n",
    "\n",
    "- On Kay we use conda environments to enable multiple configurations.\n",
    "\n",
    "- For convenience we have setup a suitable conda environment for the course."
   ]
  },
  {
   "cell_type": "markdown",
   "metadata": {},
   "source": [
    "### Run Jupyterhub\n",
    "\n",
    "- On Kay type the commands below."
   ]
  },
  {
   "cell_type": "markdown",
   "metadata": {},
   "source": [
    "```bash\n",
    "module load conda\n",
    "source activate jupyterhub\n",
    "jupyterhub_kay\n",
    "```"
   ]
  },
  {
   "cell_type": "markdown",
   "metadata": {},
   "source": [
    "- You should then see something like this.\n",
    "\n",
    "```bash\n",
    "JupyterHub starting (will take 1-2min). Usage instructions will be printed soon.\n",
    "\n",
    "Usage Instructions:\n",
    "1. Create a ssh tunnel from your local computer using the command\n",
    "ssh -N -L 8080:localhost:19303 aralph@login3.kay.ichec.ie\n",
    "2. Open web browser at http://localhost:8080\n",
    "```"
   ]
  },
  {
   "cell_type": "markdown",
   "metadata": {},
   "source": [
    "- Next you need to create the ssh tunnel. \n",
    "\n",
    "- This is done on your own machine **not** Kay.\n",
    "\n",
    "- On Mac and Linux it is a simple as copy and paste the line after \"1.\" to a local terminal.\n",
    "\n",
    "- You will need the Kay password for this.\n",
    "\n",
    "- Finally you can open the URL in \"2.\" on your own browser."
   ]
  },
  {
   "cell_type": "markdown",
   "metadata": {},
   "source": [
    "# <center>The JupyterHub Interface<center/>\n",
    "\n",
    "- When you open the page you should get the page below\n",
    "    \n",
    "![Login Page](../img/JupyterHub_Login.png)    "
   ]
  },
  {
   "cell_type": "markdown",
   "metadata": {},
   "source": [
    "- This is an extra level of security and you login using the same name and password for the course accounts.\n",
    "\n",
    "- If you have got this far well done.\n",
    "\n",
    "- We will progress from here during the course."
   ]
  },
  {
   "cell_type": "markdown",
   "metadata": {},
   "source": [
    "## For reference\n",
    "\n",
    "- When you have a server started, you will get this menu bar."
   ]
  },
  {
   "cell_type": "markdown",
   "metadata": {},
   "source": [
    "### Menu bar\n",
    "\n",
    "<img src=\"../img/MenuBar.png\" alt=\"Drawing\" style=\"width: 750px;\"/>\n",
    "\n",
    "* **File:** actions related to files and directory\n",
    "* **Edit:** actions related to editing documents\n",
    "* **View:** actions to alter the appearance of JupyterLab\n",
    "* **Run:** actions for running code in notebooks and consoles\n",
    "* **Kernel:** actions for managing kernels (processes for running code)\n",
    "* **Tabs:** List of open documents / activities\n",
    "* **Settings:** common setting and advanced settings editor\n",
    "* **Help:** List of links for help on JupyterLab and kernels"
   ]
  },
  {
   "cell_type": "markdown",
   "metadata": {},
   "source": [
    "# Other features"
   ]
  },
  {
   "cell_type": "markdown",
   "metadata": {},
   "source": [
    "### Terminal"
   ]
  },
  {
   "cell_type": "markdown",
   "metadata": {},
   "source": [
    "JupyterLab has access to a terminal should you wish to run commands, or use a text editor like `vim`. It can be accessed by the **File** menu and **Launcher**\n",
    "\n",
    "<img src=\"../img/Launcher.png\" alt=\"Drawing\" style=\"width: 500px;\"/>\n",
    "\n",
    "or via the **Menu Bar**\n",
    "\n",
    "<img src=\"../img/Terminal_Access.png\" alt=\"Drawing\" style=\"width: 500px;\"/>"
   ]
  },
  {
   "cell_type": "markdown",
   "metadata": {},
   "source": [
    "**On the far right is an item that selects your work kernel**\n",
    "\n",
    "When you have a notebook you can select the kernel to use.\n",
    "\n",
    "Select it and make sure that you select the `Python [conda env:conda-HPC]` option to activate the environment in the Jupyter notebook.\n",
    "\n",
    "<div class=\"alert alert-block alert-info\">\n",
    "<b>NB:</b> You will need to do this for each notebook you open, as it automatically defaults to the base environment, Python 3\n",
    "</div>"
   ]
  },
  {
   "cell_type": "markdown",
   "metadata": {},
   "source": [
    "### IPython Magics\n",
    "\n",
    "Magics are special built in commands that begin with percentage signs `%`.\n",
    "\n",
    "* **Line magics (`%`):** Used for notebook wide applications (eg `%matplotlib inline` - outputs matplotlib to cell output)\n",
    "* **Cell magics (`%%`):** We can have each block represented as a single 'file', and magics only apply to that cell (eg `%%writefile test.py` - writes content of cell to a file called `test.py`"
   ]
  },
  {
   "cell_type": "markdown",
   "metadata": {},
   "source": [
    "### Getting Help\n",
    "\n",
    "The question mark operator (`?`) can be used to get details about the object or function that you are using "
   ]
  },
  {
   "cell_type": "code",
   "execution_count": null,
   "metadata": {},
   "outputs": [],
   "source": [
    "import numpy as np\n",
    "np?"
   ]
  },
  {
   "cell_type": "markdown",
   "metadata": {},
   "source": [
    "<br>\n",
    "While you are typing, use `Shift Tab` to display info on the object you are in the process of typing"
   ]
  },
  {
   "cell_type": "code",
   "execution_count": null,
   "metadata": {},
   "outputs": [],
   "source": [
    "np.random"
   ]
  },
  {
   "cell_type": "markdown",
   "metadata": {},
   "source": [
    "`%quickref` gives a few guidelines on magics and commands that can be used in the notebook."
   ]
  },
  {
   "cell_type": "code",
   "execution_count": null,
   "metadata": {},
   "outputs": [],
   "source": [
    "%quickref"
   ]
  },
  {
   "cell_type": "markdown",
   "metadata": {},
   "source": [
    "### Useful TIps\n",
    "\n",
    "`Enter` will take you into edit mode for the given cell.\n",
    "\n",
    "Use the **Edit** menu to split cells, delete cells and move cells up and down.\n",
    "\n",
    "In the **Kernel** menu you can restart the notebook. This can be useful if things go wrong and you want to start again.\n"
   ]
  },
  {
   "cell_type": "code",
   "execution_count": null,
   "metadata": {},
   "outputs": [],
   "source": []
  }
 ],
 "metadata": {
  "kernelspec": {
   "display_name": "Python 3 (ipykernel)",
   "language": "python",
   "name": "python3"
  },
  "language_info": {
   "codemirror_mode": {
    "name": "ipython",
    "version": 3
   },
   "file_extension": ".py",
   "mimetype": "text/x-python",
   "name": "python",
   "nbconvert_exporter": "python",
   "pygments_lexer": "ipython3",
   "version": "3.7.13"
  }
 },
 "nbformat": 4,
 "nbformat_minor": 4
}
