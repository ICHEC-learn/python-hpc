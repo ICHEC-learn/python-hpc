{
 "cells": [
  {
   "cell_type": "markdown",
   "metadata": {},
   "source": [
    "<center><img src=\"../../fig/ICHEC_Logo.jpg\" alt=\"Drawing\" style=\"width: 500px;\"/>"
   ]
  },
  {
   "cell_type": "markdown",
   "metadata": {},
   "source": [
    "# <center>Understanding the Global Interpreter Lock</center>\n",
    "***"
   ]
  },
  {
   "cell_type": "code",
   "execution_count": 1,
   "metadata": {},
   "outputs": [],
   "source": [
    "import threading"
   ]
  },
  {
   "cell_type": "markdown",
   "metadata": {},
   "source": [
    "We have two simple functions that will print out strings of different colour a total of 5 times."
   ]
  },
  {
   "cell_type": "code",
   "execution_count": 2,
   "metadata": {},
   "outputs": [],
   "source": [
    "def red_text():\n",
    "    c = '\\033[91m'  # red\n",
    "    for i in range(5):\n",
    "        for word in ['Hello', 'from', 'the', 'first', 'red', 'function\\n']:\n",
    "            print(f' {c}{word}', end='')\n",
    "\n",
    "def blue_text():\n",
    "    c = '\\033[34m' \n",
    "    for i in range(5):\n",
    "        for word in ['Hello', 'from', 'the', 'second', 'blue', 'function\\n']:\n",
    "            print(f' {c}{word}', end='')"
   ]
  },
  {
   "cell_type": "markdown",
   "metadata": {},
   "source": [
    "Using the module, `threading` which we have imported, we define 2 threads. We will run it and then they will join together to the main thread."
   ]
  },
  {
   "cell_type": "code",
   "execution_count": 13,
   "metadata": {},
   "outputs": [
    {
     "name": "stdout",
     "output_type": "stream",
     "text": [
      " \u001b[91mHello \u001b[91mfrom \u001b[91mthe \u001b[91mfirst \u001b[91mred \u001b[91mfunction\n",
      " \u001b[91mHello \u001b[91mfrom \u001b[91mthe \u001b[91mfirst \u001b[91mred \u001b[91mfunction\n",
      " \u001b[91mHello \u001b[91mfrom \u001b[91mthe \u001b[91mfirst \u001b[91mred \u001b[91mfunction\n",
      " \u001b[91mHello \u001b[91mfrom \u001b[91mthe \u001b[91mfirst \u001b[91mred \u001b[91mfunction\n",
      " \u001b[91mHello \u001b[34mHello \u001b[34mfrom \u001b[34mthe \u001b[34msecond \u001b[34mblue \u001b[34mfunction\n",
      " \u001b[34mHello \u001b[34mfrom \u001b[91mfrom \u001b[91mthe \u001b[91mfirst \u001b[34mthe \u001b[34msecond \u001b[34mblue \u001b[34mfunction\n",
      " \u001b[34mHello \u001b[34mfrom \u001b[34mthe \u001b[34msecond \u001b[34mblue \u001b[34mfunction\n",
      " \u001b[34mHello \u001b[34mfrom \u001b[34mthe \u001b[34msecond \u001b[91mred \u001b[91mfunction\n",
      " \u001b[34mblue \u001b[34mfunction\n",
      " \u001b[34mHello \u001b[34mfrom \u001b[34mthe \u001b[34msecond \u001b[34mblue \u001b[34mfunction\n"
     ]
    }
   ],
   "source": [
    "red_thread = threading.Thread(target=red_text)\n",
    "blue_thread = threading.Thread(target=blue_text)\n",
    "\n",
    "red_thread.start()\n",
    "blue_thread.start()\n",
    "\n",
    "red_thread.join()\n",
    "blue_thread.join()"
   ]
  },
  {
   "cell_type": "markdown",
   "metadata": {},
   "source": [
    "As you can see, they are interfering with each other and it will always be different no matter how many times you do it.\n",
    "\n",
    "Here the GIL is running and everything is protected but we see the threads interfering over the loop.\n",
    "\n",
    "Now lets have a look at the lock"
   ]
  },
  {
   "cell_type": "code",
   "execution_count": 14,
   "metadata": {},
   "outputs": [],
   "source": [
    "lock = threading.Lock()"
   ]
  },
  {
   "cell_type": "code",
   "execution_count": 15,
   "metadata": {},
   "outputs": [],
   "source": [
    "def red_text():\n",
    "    c = '\\033[91m'  # red\n",
    "    for i in range(5):\n",
    "        lock.acquire()\n",
    "        for word in ['Hello', 'from', 'the', 'first', 'red', 'function\\n']:\n",
    "            print(f' {c}{word}', end='')\n",
    "        lock.release()\n",
    "\n",
    "def blue_text():\n",
    "    c = '\\033[34m' \n",
    "    for i in range(5):\n",
    "        lock.acquire()\n",
    "        for word in ['Hello', 'from', 'the', 'second', 'blue', 'function\\n']:\n",
    "            print(f' {c}{word}', end='')\n",
    "        lock.release()"
   ]
  },
  {
   "cell_type": "markdown",
   "metadata": {},
   "source": [
    "The parts that are interfering we are wrapping by the lock."
   ]
  },
  {
   "cell_type": "code",
   "execution_count": 20,
   "metadata": {},
   "outputs": [
    {
     "name": "stdout",
     "output_type": "stream",
     "text": [
      " \u001b[91mHello \u001b[91mfrom \u001b[91mthe \u001b[91mfirst \u001b[91mred \u001b[91mfunction\n",
      " \u001b[91mHello \u001b[91mfrom \u001b[91mthe \u001b[91mfirst \u001b[91mred \u001b[91mfunction\n",
      " \u001b[91mHello \u001b[91mfrom \u001b[91mthe \u001b[91mfirst \u001b[91mred \u001b[91mfunction\n",
      " \u001b[91mHello \u001b[91mfrom \u001b[91mthe \u001b[91mfirst \u001b[91mred \u001b[91mfunction\n",
      " \u001b[91mHello \u001b[91mfrom \u001b[91mthe \u001b[91mfirst \u001b[91mred \u001b[91mfunction\n",
      " \u001b[34mHello \u001b[34mfrom \u001b[34mthe \u001b[34msecond \u001b[34mblue \u001b[34mfunction\n",
      " \u001b[34mHello \u001b[34mfrom \u001b[34mthe \u001b[34msecond \u001b[34mblue \u001b[34mfunction\n",
      " \u001b[34mHello \u001b[34mfrom \u001b[34mthe \u001b[34msecond \u001b[34mblue \u001b[34mfunction\n",
      " \u001b[34mHello \u001b[34mfrom \u001b[34mthe \u001b[34msecond \u001b[34mblue \u001b[34mfunction\n",
      " \u001b[34mHello \u001b[34mfrom \u001b[34mthe \u001b[34msecond \u001b[34mblue \u001b[34mfunction\n"
     ]
    }
   ],
   "source": [
    "red_thread = threading.Thread(target=red_text)\n",
    "blue_thread = threading.Thread(target=blue_text)\n",
    "\n",
    "red_thread.start()\n",
    "blue_thread.start()\n",
    "\n",
    "red_thread.join()\n",
    "blue_thread.join()"
   ]
  },
  {
   "cell_type": "markdown",
   "metadata": {},
   "source": [
    "Remember this itself is not the GIL, but this is how the GIL works. For every line of of code the interpreter will translate it to machine code, and then get wrapped by the lock.\n",
    "\n",
    "To have a truly multithreaded code you need to release the GIL. We will look at this in more detail in the `numba` section."
   ]
  },
  {
   "cell_type": "code",
   "execution_count": null,
   "metadata": {},
   "outputs": [],
   "source": []
  }
 ],
 "metadata": {
  "kernelspec": {
   "display_name": "Python 3",
   "language": "python",
   "name": "python3"
  },
  "language_info": {
   "codemirror_mode": {
    "name": "ipython",
    "version": 3
   },
   "file_extension": ".py",
   "mimetype": "text/x-python",
   "name": "python",
   "nbconvert_exporter": "python",
   "pygments_lexer": "ipython3",
   "version": "3.8.5"
  }
 },
 "nbformat": 4,
 "nbformat_minor": 4
}
