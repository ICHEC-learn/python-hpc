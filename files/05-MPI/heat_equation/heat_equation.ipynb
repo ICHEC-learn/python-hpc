{
 "cells": [
  {
   "cell_type": "markdown",
   "metadata": {},
   "source": [
    "# <center>Heat Equation</center>"
   ]
  },
  {
   "cell_type": "code",
   "execution_count": null,
   "metadata": {},
   "outputs": [],
   "source": [
    "%%writefile modules/io.py\n",
    "\n",
    "import numpy\n",
    "import matplotlib.pyplot\n",
    "\n",
    "\n",
    "def initialise_field(filename):\n",
    "    field = numpy.loadtxt(filename)\n",
    "    return field\n",
    "\n",
    "\n",
    "def write_field(field, step):\n",
    "    matplotlib.pyplot.gca().clear()\n",
    "    matplotlib.pyplot.imshow(field)\n",
    "    matplotlib.pyplot.axis('off')\n",
    "    matplotlib.pyplot.savefig('output/bottle_{0:04d}.png'.format(step))\n",
    "\n",
    "\n",
    "def to_text_file(field, filename):\n",
    "    numpy.savetxt(filename, field, fmt='%1.1f')"
   ]
  },
  {
   "cell_type": "code",
   "execution_count": null,
   "metadata": {},
   "outputs": [],
   "source": [
    "%%writefile modules/evolve.py\n",
    "\n",
    "def evolve(u, u_previous, a, dt, dx2, dy2):\n",
    "\n",
    "    del_sqrd_u = (u_previous[:-2, 1:-1] - 2 * u_previous[1:-1, 1:-1] +\n",
    "                  u_previous[2:, 1:-1]) / dx2 + (u_previous[1:-1, :-2] -\n",
    "                                                 2 * u_previous[1:-1, 1:-1] +\n",
    "                                                 u_previous[1:-1, 2:]) / dy2\n",
    "\n",
    "    u[1:-1, 1:-1] = u_previous[1:-1, 1:-1] + dt * a * del_sqrd_u\n",
    "\n",
    "    u_previous[:, :] = u[:, :]"
   ]
  },
  {
   "cell_type": "code",
   "execution_count": null,
   "metadata": {},
   "outputs": [],
   "source": [
    "%%writefile modules/comms.py\n",
    "\n",
    "#def halo_exchange():\n",
    "\n",
    "#def distribute_subfields():\n",
    "\n",
    "#def gather_subfields():"
   ]
  },
  {
   "cell_type": "code",
   "execution_count": null,
   "metadata": {},
   "outputs": [],
   "source": [
    "%%writefile main.py\n",
    "\n",
    "import matplotlib.pyplot\n",
    "import time\n",
    "import numpy\n",
    "from mpi4py import MPI\n",
    "from mpi4py.MPI import Request\n",
    "from modules import evolve, io, comms\n",
    "\n",
    "# Set the colormap\n",
    "matplotlib.pyplot.rcParams['image.cmap'] = 'BrBG'\n",
    "\n",
    "# Basic parameters\n",
    "a = 0.5  # Diffusion constant\n",
    "timesteps = 1000  # Number of time-steps to evolve system\n",
    "image_interval = 4000  # Write frequency for png files\n",
    "\n",
    "# Grid spacings\n",
    "dx = 0.01\n",
    "dy = 0.01\n",
    "dx2 = dx**2\n",
    "dy2 = dy**2\n",
    "\n",
    "# For stability, this is the largest possible size of the time-step:\n",
    "dt = dx2 * dy2 / (2 * a * (dx2 + dy2))\n",
    "\n",
    "\n",
    "def iterate(field, field0, timesteps, image_interval):\n",
    "    for i in range(1, timesteps + 1):\n",
    "        evolve.evolve(field, field0, a, dt, dx2, dy2)\n",
    "\n",
    "\n",
    "def main():\n",
    "    print('Initialising field...')\n",
    "    field = io.initialise_field('data/bottle.dat')\n",
    "    \n",
    "    io.write_field(field, 0)\n",
    "    print('Initial field written to output/bottle_0000.png.')\n",
    "\n",
    "    field0 = field[:, :]\n",
    "\n",
    "    print('Simulating...')\n",
    "    t0 = time.time()\n",
    "    iterate(field, field0, timesteps, image_interval)\n",
    "    t1 = time.time()\n",
    "    print('Simulation complete.')\n",
    "    io.write_field(field, timesteps)\n",
    "    print('Final field written to output/bottle_{}.png.'.format(timesteps))\n",
    "    print(\"Running Time: {0}\".format(t1 - t0))\n",
    "\n",
    "\n",
    "main()"
   ]
  },
  {
   "cell_type": "code",
   "execution_count": null,
   "metadata": {},
   "outputs": [],
   "source": [
    "!mkdir -p output"
   ]
  },
  {
   "cell_type": "code",
   "execution_count": null,
   "metadata": {},
   "outputs": [],
   "source": [
    "!python3 main.py"
   ]
  },
  {
   "cell_type": "code",
   "execution_count": null,
   "metadata": {},
   "outputs": [],
   "source": [
    "import matplotlib.image as img\n",
    "import matplotlib.pyplot as plt\n",
    "\n",
    "%matplotlib inline\n",
    "\n",
    "initial_bottle = img.imread('output/bottle_0000.png')\n",
    "final_bottle = img.imread('output/bottle_1000.png')\n",
    "\n",
    "fig=plt.figure(figsize=(16, 16))\n",
    "\n",
    "fig.add_subplot(1, 2, 1)\n",
    "plt.gca().set_title('Initial Configuration')\n",
    "plt.imshow(initial_bottle)\n",
    "fig.add_subplot(1, 2, 2)\n",
    "plt.gca().set_title('Final Configuration')\n",
    "plt.imshow(final_bottle)\n",
    "\n",
    "plt.show()"
   ]
  },
  {
   "cell_type": "code",
   "execution_count": null,
   "metadata": {},
   "outputs": [],
   "source": []
  }
 ],
 "metadata": {
  "kernelspec": {
   "display_name": "Python 3",
   "language": "python",
   "name": "python3"
  },
  "language_info": {
   "codemirror_mode": {
    "name": "ipython",
    "version": 3
   },
   "file_extension": ".py",
   "mimetype": "text/x-python",
   "name": "python",
   "nbconvert_exporter": "python",
   "pygments_lexer": "ipython3",
   "version": "3.9.2"
  }
 },
 "nbformat": 4,
 "nbformat_minor": 4
}
