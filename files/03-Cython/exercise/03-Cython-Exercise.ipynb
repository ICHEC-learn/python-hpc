{
 "cells": [
  {
   "cell_type": "markdown",
   "metadata": {},
   "source": [
    "<img src=\"../../img/ICHEC_Logo.png\" alt=\"Drawing\" style=\"width: 500px;\"/>\n",
    "\n",
    "<center> <img src=\"../../img/cythonlogo.png\" alt=\"Drawing\" style=\"width: 200px;\"/>"
   ]
  },
  {
   "cell_type": "markdown",
   "metadata": {},
   "source": [
    "***\n",
    "\n",
    "# <center>Exercise 1: 10 minutes<center/>\n",
    "\n",
    "\n",
    "\n",
    "* Define a simple addition module below, which containing the following function, and write it to a file `cython_addition.pyx`. Modify it to return `x + y`.\n",
    "\n",
    "```python\n",
    "def addition(x, y):\n",
    "    # TODO\n",
    "```\n",
    "\n",
    "* Utilise the function by importing it into a new file `addition_main.py`\n",
    "* Edit the `setup.py` accordingly to import the correct file. Use the demo as a reference\n",
    "\n",
    "<div class=\"alert alert-block alert-info\">\n",
    "<b>Try the exercise outside the notebook environment using a text editor like vim or nano or another editor of your choosing <b/>   \n",
    "</div>"
   ]
  },
  {
   "cell_type": "code",
   "execution_count": null,
   "metadata": {},
   "outputs": [],
   "source": [
    "%%writefile cython_addition.pyx\n",
    "\n",
    "## TODO: Copy the above code into this cell and modify it to return x + y"
   ]
  },
  {
   "cell_type": "code",
   "execution_count": null,
   "metadata": {},
   "outputs": [],
   "source": [
    "%%writefile addition_main.py\n",
    "\n",
    "## TODO: Import the function\n",
    "## TODO: Call the function"
   ]
  },
  {
   "cell_type": "code",
   "execution_count": 2,
   "metadata": {},
   "outputs": [
    {
     "name": "stdout",
     "output_type": "stream",
     "text": [
      "Overwriting setup.py\n"
     ]
    }
   ],
   "source": [
    "%%writefile setup.py\n",
    "\n",
    "from distutils.core import setup, Extension\n",
    "from Cython.Build import cythonize\n",
    "\n",
    "# TODO: Edit the next line\n",
    "setup(ext_modules = cythonize(\"FILENAME\"))"
   ]
  },
  {
   "cell_type": "code",
   "execution_count": null,
   "metadata": {},
   "outputs": [],
   "source": [
    "!python setup.py build_ext --inplace"
   ]
  },
  {
   "cell_type": "code",
   "execution_count": null,
   "metadata": {},
   "outputs": [],
   "source": [
    "!python addition_main.py"
   ]
  },
  {
   "cell_type": "markdown",
   "metadata": {},
   "source": [
    "***\n",
    "\n",
    "# <center>Exercise 2: 5 minutes<center/>\n",
    "    \n",
    "* Consider the following python code which computes the integral for the function $x^2 - x$\n",
    "* Run the code as is and record the time, $t_1$\n",
    "* Use Cython's static type declarations on variables only and record the new time\n",
    "* Repeat, and implement function call overheads. How has the time, $t_1$ changed? \n",
    "    * **Remember to use both `cdef` and `cpdef`**\n"
   ]
  },
  {
   "cell_type": "code",
   "execution_count": null,
   "metadata": {},
   "outputs": [],
   "source": [
    "%%cython -a \n",
    "\n",
    "def f(x):\n",
    "    return x ** 2 - x\n",
    "\n",
    "def integrate_f(a, b, N):\n",
    "    s = 0\n",
    "    dx = (b - a) / N\n",
    "    for i in range(N):\n",
    "        s += f(a + i * dx)\n",
    "    return s * dx"
   ]
  },
  {
   "cell_type": "code",
   "execution_count": null,
   "metadata": {},
   "outputs": [],
   "source": [
    "%time integrate_f(9, 10, 100)"
   ]
  },
  {
   "cell_type": "code",
   "execution_count": null,
   "metadata": {},
   "outputs": [],
   "source": [
    "%%cython\n",
    "\n",
    "## TODO: redo previous code with static type declarations & function call overheads"
   ]
  },
  {
   "cell_type": "code",
   "execution_count": null,
   "metadata": {},
   "outputs": [],
   "source": [
    "## TODO: record time of cython version, using %time (remember to use cpdef with %time)\n"
   ]
  },
  {
   "cell_type": "markdown",
   "metadata": {
    "jupyter": {
     "source_hidden": true
    }
   },
   "source": [
    "***\n",
    "\n",
    "# <center>Exercise 3: 15 minutes<center/>\n",
    "    \n",
    "Implement the fully cythonised version for the mandel code using a setup file etc. Change and increase the variables for the set and submit your code to Kay using a submission script\n",
    "    \n",
    "   "
   ]
  },
  {
   "cell_type": "markdown",
   "metadata": {},
   "source": [
    "# <center>Additional Exercises<center/>\n",
    "\n",
    "## Optimising with Cython \n",
    "\n",
    "- Based on a cProfile obtained for the simple (inefficient) heat equation script, write the `setup.py` file  that creates a Cython module for the most time consuming part of the script. Below is the beginning of the cProfile for [`heat_equation_simple.py`](./heat_equation_simple.py).\n",
    "\n",
    "- In its current state, running the script can be done using the following command either in the terminal or using `!` from the notebook;"
   ]
  },
  {
   "cell_type": "code",
   "execution_count": 1,
   "metadata": {},
   "outputs": [
    {
     "name": "stdout",
     "output_type": "stream",
     "text": [
      "Runtime: 20.442239999771118\n"
     ]
    }
   ],
   "source": [
    "!python heat_equation_simple.py bottle.dat"
   ]
  },
  {
   "cell_type": "markdown",
   "metadata": {},
   "source": [
    "- Using the inefficient script on the current setup the runtime of [`heat_equation_simple.py`](./heat_equation_simple.py) using;\n",
    "    - [`bottle.dat`](./bottle.dat) ≃ ~20 secs\n",
    "    - [`bottle_large.dat`](./bottle_large.dat) ≃ **~10 mins**\n",
    "    \n",
    "\n",
    "- The `time` module is being used to check the runtime of the `iterate` function, which implements `evolve`. The actual runtime of `heat_equation_simple.py` is slightly longer.\n",
    "\n",
    "    \n",
    "- How much can you improve the performance? You should be able to optimise it sufficiently to get the performance runtimes down to;\n",
    "    - `bottle.dat` < 0.1 sec\n",
    "    - `bottle_large.dat` < 5 secs\n",
    "    \n",
    "    \n",
    "- Can you get it even better?\n",
    "    \n",
    "- **NB: Experiment with `bottle.dat` first, and ignore `bottle_large.dat` otherwise it will take too long! Get `bottle.dat` to run for ~0.5 secs before attempting with the larger dataset.**\n",
    "\n",
    "<img src=\"cprofile.png\" alt=\"Drawing\" style=\"width: 600px;\"/> \n",
    "\n",
    "- Use the code segment below from [`evolve.py`](./evolve.py) to create an `evolve.pyx` file. If you wish, you can copy this into a text editor of your choosing. \n",
    "    - Create a setup file to compile the code\n",
    "    - Create the cython extension and investigate the effect on performance using any prefered timing technique.\n",
    "    - Insert static type declarations, function calls, `cnp` arrays and compiler directives where necessary."
   ]
  },
  {
   "cell_type": "code",
   "execution_count": 2,
   "metadata": {},
   "outputs": [
    {
     "name": "stdout",
     "output_type": "stream",
     "text": [
      "Writing evolve_cyt.pyx\n"
     ]
    }
   ],
   "source": [
    "%%writefile evolve_cyt.pyx\n",
    "\n",
    "def evolve_cyt(u, u_previous, a, dt, dx2, dy2):\n",
    "    \n",
    "    n = u.shape[0]\n",
    "    m = u.shape[1]\n",
    "\n",
    "    for i in range(1, n-1):\n",
    "        for j in range(1, m-1):\n",
    "            u[i, j] = u_previous[i, j] + a * dt * ( \\\n",
    "             (u_previous[i+1, j] - 2*u_previous[i, j] + \\\n",
    "              u_previous[i-1, j]) /dx2 + \\\n",
    "             (u_previous[i, j+1] - 2*u_previous[i, j] + \\\n",
    "                 u_previous[i, j-1]) /dy2 )\n",
    "    u_previous[:] = u[:]"
   ]
  },
  {
   "cell_type": "code",
   "execution_count": 3,
   "metadata": {},
   "outputs": [
    {
     "name": "stdout",
     "output_type": "stream",
     "text": [
      "Writing heat_setup.py\n"
     ]
    }
   ],
   "source": [
    "%%writefile heat_setup.py\n",
    "\n",
    "# EDIT ME"
   ]
  },
  {
   "cell_type": "code",
   "execution_count": 4,
   "metadata": {},
   "outputs": [],
   "source": [
    "!python heat_setup.py build_ext --inplace"
   ]
  },
  {
   "cell_type": "markdown",
   "metadata": {},
   "source": [
    "Remember to import the correct module, `evolve` is different from `evolve_cyt`!"
   ]
  },
  {
   "cell_type": "code",
   "execution_count": 5,
   "metadata": {},
   "outputs": [
    {
     "name": "stdout",
     "output_type": "stream",
     "text": [
      "Runtime: 18.84291100502014\n"
     ]
    }
   ],
   "source": [
    "!python heat_equation_simple.py bottle.dat"
   ]
  },
  {
   "cell_type": "markdown",
   "metadata": {},
   "source": [
    "### Bonus: \n",
    "\n",
    "- Compare with [`heat_equation_index.py`](./heat_equation_index.py) which uses array operations derived from [`evolve_index.py`](./evolve_index.py)\n",
    "- What additional speed up can be found here?"
   ]
  },
  {
   "cell_type": "code",
   "execution_count": 6,
   "metadata": {},
   "outputs": [
    {
     "name": "stdout",
     "output_type": "stream",
     "text": [
      "Running Time: 0.06571698188781738\n"
     ]
    }
   ],
   "source": [
    "!python heat_equation_index.py bottle.dat"
   ]
  },
  {
   "cell_type": "code",
   "execution_count": null,
   "metadata": {},
   "outputs": [],
   "source": []
  }
 ],
 "metadata": {
  "kernelspec": {
   "display_name": "Python 3",
   "language": "python",
   "name": "python3"
  },
  "language_info": {
   "codemirror_mode": {
    "name": "ipython",
    "version": 3
   },
   "file_extension": ".py",
   "mimetype": "text/x-python",
   "name": "python",
   "nbconvert_exporter": "python",
   "pygments_lexer": "ipython3",
   "version": "3.8.3"
  }
 },
 "nbformat": 4,
 "nbformat_minor": 4
}
