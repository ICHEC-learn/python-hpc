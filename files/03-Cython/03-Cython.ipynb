{
 "cells": [
  {
   "cell_type": "markdown",
   "metadata": {
    "slideshow": {
     "slide_type": "slide"
    }
   },
   "source": [
    "<center><img src=\"../img/ICHEC_Logo.png\" alt=\"Drawing\" style=\"width: 500px;\"/>\n",
    "\n",
    "<center> <img src=\"../img/cythonlogo.png\" alt=\"Drawing\" style=\"width: 200px;\"/>"
   ]
  },
  {
   "cell_type": "markdown",
   "metadata": {},
   "source": [
    "<br>\n",
    "\n",
    "# <center> Overview <center/>\n",
    "******\n",
    "***\n",
    "\n",
    "**Cython** is a programming language that makes writing C extensions for the Python language as easy as Python itself. The source code gets **translated into optimised C/C++ code** and **compiled as Python extension modules**. \n",
    "\n",
    "The code is executed in the CPython runtime environment, but at the speed of compiled C with the ability to call directly into C libraries, whilst keeping the original interface of the Python source code.\n",
    "\n",
    "This enables Cython's **two major use cases**:\n",
    "   * extending the CPython interpreter with fast binary modules\n",
    "   * interfacing Python code with external C libraries\n",
    "\n",
    "**REMEMBER -** Cython **IS** Python, just with C data types, so some basic C knowledge is recommended."
   ]
  },
  {
   "cell_type": "markdown",
   "metadata": {},
   "source": [
    "<br>\n",
    "\n",
    "# <center> Typing <center/>\n",
    "\n",
    "**Cython** supports **static type declarations**, thereby turning readable Python code into plain C performance.\n",
    "\n",
    "**Static Typing**:\n",
    "   * type checking is performed during compile-time\n",
    "   * e.g. x = 4 + 'e' would not compile\n",
    "   * can detect type errors in rarely used code paths\n",
    "\n",
    "**Dynamic Typing**:\n",
    "   * type checking is performed during run-time\n",
    "   * e.g. x = 4 + 'e' would result in a runtime type error\n",
    "    \n",
    "This allows for fast program execution and tight integration with external C libraries. "
   ]
  },
  {
   "cell_type": "markdown",
   "metadata": {},
   "source": [
    "# <center> Fundamentals of Implementing Cython <center/>\n",
    "\n",
    "Cython can be utilised easily in Jupyter notebooks using cell magics, however we will also show you how to implement Cython outside the notebook environment.\n",
    "\n",
    "There are a couple of ways to implement Cython:\n",
    "   * Use cell magics `%%`;\n",
    "       * and run everything in Jupyter notebooks\n",
    "       * and create external files which you can then compile\n",
    "   * Use another IDE (VSCode, spyder, Eclipse) or vim and utilise the terminal"
   ]
  },
  {
   "cell_type": "markdown",
   "metadata": {},
   "source": [
    "### **1. Using Standard Python**"
   ]
  },
  {
   "cell_type": "markdown",
   "metadata": {},
   "source": [
    "#### ***Utilising the Jupyter notebook***"
   ]
  },
  {
   "cell_type": "code",
   "execution_count": null,
   "metadata": {},
   "outputs": [],
   "source": [
    "def fib(n):\n",
    "    # Prints the Fibonacci series up to n.\n",
    "    a, b = 0, 1\n",
    "    while b < n:\n",
    "        print(b)\n",
    "        a, b = b, a + b"
   ]
  },
  {
   "cell_type": "code",
   "execution_count": null,
   "metadata": {},
   "outputs": [],
   "source": [
    "fib(10)"
   ]
  },
  {
   "cell_type": "markdown",
   "metadata": {},
   "source": [
    "We will use cell magics to create the files `fibonacci.py` and `fibonacci_main.py`"
   ]
  },
  {
   "cell_type": "code",
   "execution_count": null,
   "metadata": {},
   "outputs": [],
   "source": [
    "%%writefile fibonacci.py\n",
    "\n",
    "def fib(n):\n",
    "    # Prints the Fibonacci series up to n.\n",
    "    a, b = 0, 1\n",
    "    while b < n:\n",
    "        print(b)\n",
    "        a, b = b, a + b"
   ]
  },
  {
   "cell_type": "code",
   "execution_count": null,
   "metadata": {},
   "outputs": [],
   "source": [
    "%%writefile fibonacci_main.py\n",
    "\n",
    "from fibonacci import fib\n",
    "\n",
    "fib(10)"
   ]
  },
  {
   "cell_type": "markdown",
   "metadata": {},
   "source": [
    "As you can see, we now have these files written [fibonacci.py](fibonacci.py) and implemented using [fibonacci_main.py](fibonacci_main.py)\n",
    "\n",
    "(Try running this command using Terminal)"
   ]
  },
  {
   "cell_type": "code",
   "execution_count": null,
   "metadata": {},
   "outputs": [],
   "source": [
    "!python fibonacci_main.py"
   ]
  },
  {
   "cell_type": "markdown",
   "metadata": {},
   "source": [
    "### **2. Using Cython**\n",
    "\n",
    "#### ***A) Using Jupyter notebook***"
   ]
  },
  {
   "cell_type": "markdown",
   "metadata": {},
   "source": [
    "First, load the cython extension into Jupyter notebook using;"
   ]
  },
  {
   "cell_type": "code",
   "execution_count": null,
   "metadata": {},
   "outputs": [],
   "source": [
    "%load_ext cython"
   ]
  },
  {
   "cell_type": "code",
   "execution_count": null,
   "metadata": {},
   "outputs": [],
   "source": [
    "import cython\n",
    "cython.__version__"
   ]
  },
  {
   "cell_type": "markdown",
   "metadata": {},
   "source": [
    "<div class=\"alert alert-block alert-info\">\n",
    "<b>This only needs to be done once!<b/>   \n",
    "</div>\n",
    "\n",
    "Now we can use Cython in our Jupyter notebook"
   ]
  },
  {
   "cell_type": "code",
   "execution_count": null,
   "metadata": {},
   "outputs": [],
   "source": [
    "%%cython\n",
    "\n",
    "def fib_cyt(n):\n",
    "    # Prints the Fibonacci series up to n.\n",
    "    a, b = 0, 1\n",
    "    while b < n:\n",
    "        print(b)\n",
    "        a, b = b, a + b"
   ]
  },
  {
   "cell_type": "code",
   "execution_count": null,
   "metadata": {},
   "outputs": [],
   "source": [
    "fib_cyt(10)"
   ]
  },
  {
   "cell_type": "markdown",
   "metadata": {},
   "source": [
    "#### ***B) Using a `setup.py` (recommended)***"
   ]
  },
  {
   "cell_type": "markdown",
   "metadata": {},
   "source": [
    "To run it in the terminal requires a bit more work, but is the best practice methodology.\n",
    "\n",
    "We need to write the cell into a `.pyx` extension. "
   ]
  },
  {
   "cell_type": "code",
   "execution_count": null,
   "metadata": {},
   "outputs": [],
   "source": [
    "%%writefile fibonacci_cyt.pyx\n",
    "\n",
    "def fib_cyt(n):\n",
    "    # Prints the Fibonacci series up to n.\n",
    "    a, b = 0, 1\n",
    "    while b < n:\n",
    "        print(b)\n",
    "        a, b = b, a + b"
   ]
  },
  {
   "cell_type": "markdown",
   "metadata": {},
   "source": [
    "This `.pyx` file is compiled by Cython to a `.c` file. This file is then compiled by a C compiler to a `.so` or `.dylib` file.\n",
    "\n",
    "There are a few ways to build your extension module. This method is by creating the `setup.py`, which can be viewed like a python Makefile"
   ]
  },
  {
   "cell_type": "code",
   "execution_count": null,
   "metadata": {},
   "outputs": [],
   "source": [
    "%%writefile setup_fib.py\n",
    "\n",
    "from distutils.core import setup, Extension\n",
    "from Cython.Build import cythonize\n",
    "\n",
    "setup(ext_modules = cythonize(\"fibonacci_cyt.pyx\"))"
   ]
  },
  {
   "cell_type": "markdown",
   "metadata": {},
   "source": [
    "<br>\n",
    "Lets see what our current directory looks like at present"
   ]
  },
  {
   "cell_type": "code",
   "execution_count": null,
   "metadata": {},
   "outputs": [],
   "source": [
    "!ls"
   ]
  },
  {
   "cell_type": "markdown",
   "metadata": {},
   "source": [
    "<br>\n",
    "\n",
    "At this stage all we have are our original Python files, our `.pyx` file and `setup_fib.py`. Now lets run our `setup_fib.py` and see how that changes. \n",
    "\n",
    "We use `build_ext --inplace` to compile the extension for use in the current directory."
   ]
  },
  {
   "cell_type": "code",
   "execution_count": null,
   "metadata": {
    "scrolled": true
   },
   "outputs": [],
   "source": [
    "!python setup_fib.py build_ext --inplace"
   ]
  },
  {
   "cell_type": "markdown",
   "metadata": {},
   "source": [
    "<br>\n",
    "\n",
    "Lets see what has happened to our current directory."
   ]
  },
  {
   "cell_type": "code",
   "execution_count": null,
   "metadata": {},
   "outputs": [],
   "source": [
    "!ls"
   ]
  },
  {
   "cell_type": "markdown",
   "metadata": {},
   "source": [
    "We have a few new additions;\n",
    "\n",
    "* `.c` file, which is then compiled using a C compiler\n",
    "* `build` directory which contains the `.o` file generated by the compiler\n",
    "* `.so` file. The compiled library file\n",
    "\n",
    "Next we add the `main` file which we will use to run our program."
   ]
  },
  {
   "cell_type": "code",
   "execution_count": null,
   "metadata": {},
   "outputs": [],
   "source": [
    "%%writefile fibonacci_cyt_main.py \n",
    "\n",
    "from fibonacci_cyt import fib_cyt\n",
    "\n",
    "fib_cyt(10)"
   ]
  },
  {
   "cell_type": "code",
   "execution_count": null,
   "metadata": {},
   "outputs": [],
   "source": [
    "!python fibonacci_cyt_main.py"
   ]
  },
  {
   "cell_type": "markdown",
   "metadata": {},
   "source": [
    "And that's it, you have successfully compiled and used a Cython file. \n",
    "\n",
    "This is only the start however, as compiling a Cython file is the bare minimum that you would need to get a significant speedup."
   ]
  },
  {
   "cell_type": "markdown",
   "metadata": {},
   "source": [
    "#### **REMEMBER the 3 things you need!**\n",
    "1. A `.pyx` file containing your Cython code\n",
    "2. A `setup.py` file to build the extension\n",
    "3. A `module_main.py` file with which you can use the extension"
   ]
  },
  {
   "cell_type": "markdown",
   "metadata": {},
   "source": [
    "****\n",
    "# <center> [Exercise 1 ~ 10 mins](exercise/03-Cython-Exercise.ipynb)\n",
    "\n",
    "****"
   ]
  },
  {
   "cell_type": "markdown",
   "metadata": {},
   "source": [
    "\n",
    "\n",
    "# <center>Accelerating Cython: Part 1<center/>\n",
    "    \n",
    "Compiling with Cython is fine, but it doesn't speed up our code to actually make a significant difference. We need to implement the C-features that Cython was designed for.\n",
    "    \n",
    "There are a number of different methods we can use."
   ]
  },
  {
   "cell_type": "markdown",
   "metadata": {},
   "source": [
    "###  **1. Static type declarations**\n",
    "\n",
    "These allow Cython to step out of the dynamic nature of the Python code and generate simpler and faster C code - sometimes faster by orders of magnitude.\n",
    "\n",
    "This is often the simplest and quickest way to achieve significant speedup, but the code can become more verbose and less readable\n",
    "\n",
    "Types are declared with `cdef` keyword\n"
   ]
  },
  {
   "cell_type": "markdown",
   "metadata": {},
   "source": [
    "**A: With cell magics ONLY**"
   ]
  },
  {
   "cell_type": "code",
   "execution_count": null,
   "metadata": {},
   "outputs": [],
   "source": [
    "import time\n",
    "from random import random\n",
    "\n",
    "def pi_montecarlo(n=1000):\n",
    "    '''Calculate PI using Monte Carlo method'''\n",
    "    in_circle = 0\n",
    "    for i in range(n):\n",
    "        x, y = random(), random()\n",
    "        if x ** 2 + y ** 2 <= 1.0:\n",
    "            in_circle += 1\n",
    "        \n",
    "    return 4.0 * in_circle / n\n",
    "\n",
    "N = 100000\n",
    "\n",
    "t0 = time.time()\n",
    "pi_approx = pi_montecarlo(N)\n",
    "t_python = time.time() - t0\n",
    "print(\"Pi Estimate:\", pi_approx)\n",
    "print(\"Time Taken\", t_python)"
   ]
  },
  {
   "cell_type": "code",
   "execution_count": null,
   "metadata": {},
   "outputs": [],
   "source": [
    "%%cython\n",
    "import time\n",
    "from random import random\n",
    "\n",
    "def pi_montecarlo(n=1000):\n",
    "    '''Calculate PI using Monte Carlo method'''\n",
    "    in_circle = 0\n",
    "    for i in range(n):\n",
    "        x, y = random(), random()\n",
    "        if x ** 2 + y ** 2 <= 1.0:\n",
    "            in_circle += 1\n",
    "        \n",
    "    return 4.0 * in_circle / n\n",
    "\n",
    "N = 100000\n",
    "\n",
    "t0 = time.time()\n",
    "pi_approx = pi_montecarlo(N)\n",
    "t_cython0 = time.time() - t0\n",
    "print(\"Pi Estimate:\", pi_approx)\n",
    "print(\"Time Taken\", t_cython0)"
   ]
  },
  {
   "cell_type": "markdown",
   "metadata": {},
   "source": [
    "**B: Implementing static type declarations**"
   ]
  },
  {
   "cell_type": "code",
   "execution_count": null,
   "metadata": {},
   "outputs": [],
   "source": [
    "%%cython\n",
    "import time\n",
    "from random import random\n",
    "\n",
    "def pi_montecarlo(int n=1000):\n",
    "    '''Calculate PI using Monte Carlo method'''\n",
    "    cdef int in_circle = 0, i\n",
    "    cdef double x, y\n",
    "    for i in range(n):\n",
    "        x, y = random(), random()\n",
    "        if x ** 2 + y ** 2 <= 1.0:\n",
    "            in_circle += 1\n",
    "        \n",
    "    return 4.0 * in_circle / n\n",
    "\n",
    "N = 100000\n",
    "\n",
    "t0 = time.time()\n",
    "pi_approx = pi_montecarlo(N)\n",
    "t_cython1 = time.time() - t0\n",
    "print(\"Pi Estimate:\", pi_approx)\n",
    "print(\"Time Taken\", t_cython1)\n"
   ]
  },
  {
   "cell_type": "markdown",
   "metadata": {},
   "source": [
    "So, as you can see, a significant speedup, even with this minimal example!"
   ]
  },
  {
   "cell_type": "markdown",
   "metadata": {},
   "source": [
    "### **2. Typing Function Calls**"
   ]
  },
  {
   "cell_type": "markdown",
   "metadata": {},
   "source": [
    "As with 'typing' variables, you can also 'type' functions. Function calls in Python can be expensive, and can be even more expensive in Cython as one might need to convert to and from Python objects to do the call.\n",
    "\n",
    "There are two ways in which to declare C-style functions in Cython;\n",
    "* Declaring a C-type function - `cdef` (same as declaring a variable)\n",
    "* Creation of a Python wrapper - `cpdef`\n",
    "\n",
    "A side-effect of cdef is that the function is no longer available from Python-space, so Python won't know how to call it"
   ]
  },
  {
   "cell_type": "markdown",
   "metadata": {},
   "source": [
    "**C: Implementing function call overheads**"
   ]
  },
  {
   "cell_type": "code",
   "execution_count": null,
   "metadata": {},
   "outputs": [],
   "source": [
    "%%cython\n",
    "\n",
    "def cube(double x):\n",
    "    return x ** 3"
   ]
  },
  {
   "cell_type": "code",
   "execution_count": null,
   "metadata": {},
   "outputs": [],
   "source": [
    "%time cube(3)"
   ]
  },
  {
   "cell_type": "code",
   "execution_count": null,
   "metadata": {},
   "outputs": [],
   "source": [
    "%%cython\n",
    "\n",
    "cdef double cube_cdef(double x):\n",
    "    return x ** 3"
   ]
  },
  {
   "cell_type": "code",
   "execution_count": null,
   "metadata": {},
   "outputs": [],
   "source": [
    "# Purposeful error!\n",
    "%time cube_cdef(3)"
   ]
  },
  {
   "cell_type": "markdown",
   "metadata": {},
   "source": [
    "<div class=\"alert alert-block alert-info\">\n",
    "<b>A side-effect of cdef is that the function is no longer available from Python-space, so Python won't know how to call it, so if we want to use the time magic command, use  cpdef</b>\n",
    "</div>"
   ]
  },
  {
   "cell_type": "code",
   "execution_count": null,
   "metadata": {},
   "outputs": [],
   "source": [
    "%%cython\n",
    "import time\n",
    "from random import random\n",
    "\n",
    "cdef double pi_montecarlo(int n=1000):\n",
    "    '''Calculate PI using Monte Carlo method'''\n",
    "    cdef int in_circle = 0, i\n",
    "    cdef double x, y\n",
    "    for i in range(n):\n",
    "        x, y = random(), random()\n",
    "        if x ** 2 + y ** 2 <= 1.0:\n",
    "            in_circle += 1\n",
    "        \n",
    "    return 4.0 * in_circle / n\n",
    "\n",
    "N = 100000\n",
    "\n",
    "t0 = time.time()\n",
    "pi_approx = pi_montecarlo(N)\n",
    "t_cython2 = time.time() - t0\n",
    "print(\"Pi Estimate:\", pi_approx)\n",
    "print(\"Time Taken\", t_cython2)\n"
   ]
  },
  {
   "cell_type": "code",
   "execution_count": null,
   "metadata": {},
   "outputs": [],
   "source": [
    "%matplotlib inline\n",
    "import matplotlib.pyplot as plt\n",
    "\n",
    "plt.figure()\n",
    "results = [t_python, t_cython0, t_cython1, t_cython2]\n",
    "labels = [\"Python\", \"Cython\", \"Cython\\nStatic\", \"Cython\\nFunc.\"]\n",
    "plt.bar(range(len(results)), results)\n",
    "plt.xticks(range(len(results)),labels)\n",
    "plt.title(\"Pi Monte Carlo\")\n",
    "\n",
    "plt.ylabel('Time (sec)')"
   ]
  },
  {
   "cell_type": "markdown",
   "metadata": {},
   "source": [
    "### **Where should I add types? (Profiling and annotation)**\n",
    "\n",
    "For those of new to Cython and the concept of declaring types, there is a tendancy to 'type' everything in sight. This reduces readability and flexibility and in certain situations, even slow things down.\n",
    "\n",
    "It is also possible to kill performance by forgetting to 'type' a critical loop variable. Tools we can use are **profiling** and **annotation**.\n",
    "\n",
    "Profiling is the first step of any optimisation effort and can tell you where the time is being spent. Cython's annotation can tell you why your code is taking so long.\n",
    "\n",
    "Using the `-a` switch in cell magics, or `cython -a cython_module.pyx` from the terminal creates an HTML report of Cython and generated C code. Alternatively, pass the `annotate=True` parameter to `cythonize()` in the `setup.py` file (Note, you may have to delete the c file and compile again to produce the HTML report)."
   ]
  },
  {
   "cell_type": "code",
   "execution_count": null,
   "metadata": {},
   "outputs": [],
   "source": [
    "%%cython -a\n",
    "\n",
    "from random import random\n",
    "\n",
    "cpdef pi_montecarlo_cy(int n=1000):\n",
    "    '''Calculate PI using Monte Carlo method'''\n",
    "    cdef int in_circle = 0\n",
    "    cdef int i\n",
    "    cdef double x, y\n",
    "    for i in range(n):\n",
    "        x, y = random(), random()\n",
    "        if x ** 2 + y ** 2 <= 1.0:\n",
    "            in_circle += 1\n",
    "        \n",
    "    return 4.0 * in_circle / n"
   ]
  },
  {
   "cell_type": "markdown",
   "metadata": {},
   "source": [
    "<br>\n",
    "Lines are coloured according to \"typedness\";\n",
    "\n",
    "* White lines translate to pure C (fast as normal C code)\n",
    "* <span style='background :yellow' >Yellow</span> lines that require the Python C-API\n",
    "* Lines with a `+` are translated to C code and can be viewed by clicking on it\n",
    "\n"
   ]
  },
  {
   "cell_type": "markdown",
   "metadata": {},
   "source": [
    "By default, Cython code does not show up in profile produced by cProfile. In Jupyter notebook or indeed a source file, profiling can be enabled by including in the first line; \n",
    "\n",
    "```python\n",
    "# cython: profile=True\n",
    "```\n",
    "\n",
    "Alternatively, if you want to do it on a function by function basis;\n",
    "* Exclude specific function while profiling code\n",
    "\n",
    "```python\n",
    "# cython: profile=True\n",
    "import cython\n",
    "@cython.profile(False)\n",
    "cdef func():\n",
    "```\n",
    "* Only profile highlighted function\n",
    "\n",
    "```python\n",
    "# cython: profile=False\n",
    "import cython\n",
    "@cython.profile(True)\n",
    "cdef func():\n",
    "```\n",
    "\n",
    "To run the profile in Jupyter, we can use the cell magics `%prun func()`"
   ]
  },
  {
   "cell_type": "code",
   "execution_count": null,
   "metadata": {},
   "outputs": [],
   "source": [
    "%%cython \n",
    "# cython: profile=True\n",
    "\n",
    "from random import random\n",
    "import cython\n",
    "\n",
    "\n",
    "cpdef pi_montecarlo_cy(int n=1000):\n",
    "    '''Calculate PI using Monte Carlo method'''\n",
    "    cdef int in_circle = 0\n",
    "    cdef int i\n",
    "    cdef double x, y\n",
    "    for i in range(n):\n",
    "        x, y = random(), random()\n",
    "        if x ** 2 + y ** 2 <= 1.0:\n",
    "            in_circle += 1\n",
    "        \n",
    "    return 4.0 * in_circle / n"
   ]
  },
  {
   "cell_type": "code",
   "execution_count": null,
   "metadata": {},
   "outputs": [],
   "source": [
    "%prun pi_montecarlo_cy(10000000)"
   ]
  },
  {
   "cell_type": "markdown",
   "metadata": {},
   "source": [
    "# <center>Accelerating Cython: Part 2<center/>\n",
    "    \n",
    "Static type declarations and function call overheads can significantly reduce runtime, however if you are dealing with numpy arrays, there are additional things you can do to significantly speed up runtime.\n",
    "    \n",
    "### **3. NumPy Arrays with Cython**\n",
    "    \n"
   ]
  },
  {
   "cell_type": "code",
   "execution_count": null,
   "metadata": {},
   "outputs": [],
   "source": [
    "import numpy as np"
   ]
  },
  {
   "cell_type": "code",
   "execution_count": null,
   "metadata": {},
   "outputs": [],
   "source": [
    "def powers_array(N, M):\n",
    "    data = np.arange(M).reshape(N,N)\n",
    "    \n",
    "    for i in range(N):\n",
    "        for j in range(N):\n",
    "            data[i,j] = i**j\n",
    "    return(data[2])\n"
   ]
  },
  {
   "cell_type": "code",
   "execution_count": null,
   "metadata": {},
   "outputs": [],
   "source": [
    "%time powers_array(15,225)"
   ]
  },
  {
   "cell_type": "code",
   "execution_count": null,
   "metadata": {},
   "outputs": [],
   "source": [
    "%%cython\n",
    "\n",
    "import numpy as np # Normal NumPy import\n",
    "cimport numpy as cnp # Import for NumPY C-API\n",
    "\n",
    "def powers_array_cy(int N, int M): # declarations can be made only in function scope\n",
    "    cdef cnp.ndarray[cnp.int_t, ndim=2] data\n",
    "    data = np.arange(M).reshape((N, N))\n",
    "\n",
    "\n",
    "    for i in range(N):\n",
    "        for j in range(N):\n",
    "            data[i,j] = i**j\n",
    "    return(data[2])"
   ]
  },
  {
   "cell_type": "code",
   "execution_count": null,
   "metadata": {},
   "outputs": [],
   "source": [
    "%time powers_array_cy(15,225)"
   ]
  },
  {
   "cell_type": "markdown",
   "metadata": {},
   "source": [
    "Note that for a small array like this, the speed up is not significant, you may even have got a slow down. This is because this particular operation in this situation suffers from unnecessary typing, as we have already discussed. \n",
    "\n",
    "Just because you can, doesn't always mean you should!\n",
    "\n",
    "For larger problems with larger arrays, speeding up using `cnp` arrays are recommended!"
   ]
  },
  {
   "cell_type": "markdown",
   "metadata": {},
   "source": [
    "### **4. Compiler Directives**"
   ]
  },
  {
   "cell_type": "markdown",
   "metadata": {},
   "source": [
    "These affect the code in a way to get the compiler to ignore things that it would usually look out for. There are plenty of examples as discussed in the Cython [documentation](https://cython.readthedocs.io/en/latest/src/userguide/source_files_and_compilation.html), however the main ones we will use here are;\n",
    "\n",
    "* `boundscheck` - If set to False, Cython is free to assume that indexing operations in the code will not cause any IndexErrors to be raised\n",
    "* `wraparound` - If set to False, Cython is allowed to neither check for nor correctly handle negative indices. This can cause data corruption or segfaults if mishandled.\n",
    "\n",
    "<div class=\"alert alert-block alert-info\">\n",
    "<b>You should implement these at a point where you know that the code is working efficiently and that any issues what could be raised by the compiler are sorted</b>\n",
    "</div>\n",
    "\n",
    "There are a few ways to implement them;\n",
    "\n",
    "* Header comment at the top of a `.pyx` file, which must appear before any code\n",
    "\n",
    "    `# cython: boundscheck=False`\n",
    "* Passing a directive on the command line using the `-X` switch\n",
    "\n",
    "    `$ cython -X boundscheck=True ...`\n",
    "* Or locally for specific functions, for which you first need the `cython` module imported\n",
    "\n",
    "    ```python\n",
    "    cimport cython\n",
    "    ```\n",
    "    \n",
    "    ```python\n",
    "    @cython boundscheck(False)\n",
    "    ```"
   ]
  },
  {
   "cell_type": "code",
   "execution_count": null,
   "metadata": {},
   "outputs": [],
   "source": [
    "%%cython\n",
    "\n",
    "import numpy as np # Normal NumPy import\n",
    "cimport numpy as cnp # Import for NumPY C-API\n",
    "\n",
    "cimport cython\n",
    "\n",
    "@cython.boundscheck(False) # turns off \n",
    "@cython.wraparound(False)\n",
    "\n",
    "def powers_array_cy(int N, int power): # number of \n",
    "    cdef cnp.ndarray[cnp.int_t, ndim=2] arr\n",
    "    cdef int M\n",
    "    M = N*N\n",
    "    arr = np.arange(M).reshape((N, N))\n",
    "\n",
    "    for i in range(N):\n",
    "        for j in range(N):\n",
    "            arr[i,j] = i**j\n",
    "    return(arr[power]) # returns the ascending powers"
   ]
  },
  {
   "cell_type": "code",
   "execution_count": null,
   "metadata": {},
   "outputs": [],
   "source": [
    "%time powers_array_cy(15,4)"
   ]
  },
  {
   "cell_type": "markdown",
   "metadata": {},
   "source": [
    "****\n",
    "# <center> [Exercise 2 ~ 5 mins](exercise/03-Cython-Exercise.ipynb)\n",
    "\n",
    "****"
   ]
  },
  {
   "cell_type": "markdown",
   "metadata": {
    "slideshow": {
     "slide_type": "slide"
    }
   },
   "source": [
    "***\n",
    "\n",
    "# <center>Case Study: Mandelbrot<center/>\n",
    "\n",
    "<center> <img src=\"../img/Mandle.png\" alt=\"Drawing\" style=\"width: 400px;\"/>"
   ]
  },
  {
   "cell_type": "markdown",
   "metadata": {},
   "source": [
    "Here we are going to do a step by step demo of a good method of speeding up a Mandelbrot generation code, which is originally written in pure python.\n",
    "\n",
    "First lets import our libraries and create an array to keep track of timings and how they change over time.\n",
    "\n",
    "### **Attempt 1: Pure Python**"
   ]
  },
  {
   "cell_type": "code",
   "execution_count": null,
   "metadata": {},
   "outputs": [],
   "source": [
    "import matplotlib.pyplot as plt\n",
    "import time\n",
    "import numpy as np\n",
    "from numpy import random\n",
    "%matplotlib inline\n",
    "\n",
    "mandel_timings = []"
   ]
  },
  {
   "cell_type": "code",
   "execution_count": null,
   "metadata": {},
   "outputs": [],
   "source": [
    "\n",
    "def plot_mandel(mandel):\n",
    "    fig=plt.figure(figsize=(10,10))\n",
    "    ax = fig.add_subplot(111)\n",
    "    ax.set_aspect('equal')\n",
    "    ax.axis('off')\n",
    "    ax.imshow(mandel, cmap='gnuplot')\n",
    "    plt.savefig('mandel.png')\n",
    "\n",
    "def kernel(zr, zi, cr, ci, radius, num_iters):\n",
    "    count = 0\n",
    "    while ((zr*zr + zi*zi) < (radius*radius)) and count < num_iters:\n",
    "        zr, zi = zr * zr - zi * zi + cr, 2 * zr * zi + ci\n",
    "        count += 1\n",
    "    return count\n",
    "\n",
    "def compute_mandel_py(cr, ci, N, bound, radius=1000.):\n",
    "    t0 = time.time()\n",
    "    mandel = np.empty((N, N), dtype=int)\n",
    "    grid_x = np.linspace(-bound, bound, N)\n",
    "\n",
    "    for i, x in enumerate(grid_x):\n",
    "        for j, y in enumerate(grid_x):\n",
    "            mandel[i,j] = kernel(x, y, cr, ci, radius, N)\n",
    "    return mandel, time.time() - t0\n",
    "\n",
    "def python_run():\n",
    "    kwargs = dict(cr=0.3852, ci=-0.2026,\n",
    "              N=200,\n",
    "              bound=1.2)\n",
    "    print(\"Using pure Python\")\n",
    "    mandel_func = compute_mandel_py       \n",
    "    mandel_set, runtime = mandel_func(**kwargs)\n",
    "    print(\"Mandelbrot set generated in {} seconds\\n\".format(runtime))\n",
    "    plot_mandel(mandel_set)\n",
    "    mandel_timings.append(runtime)\n",
    "\n"
   ]
  },
  {
   "cell_type": "code",
   "execution_count": null,
   "metadata": {},
   "outputs": [],
   "source": [
    "%time python_run()"
   ]
  },
  {
   "cell_type": "markdown",
   "metadata": {},
   "source": [
    "<br>\n",
    "\n",
    "You should have got a time between 10-15 seconds. Now we implement the next step;\n",
    "\n",
    "### **Attempt 2: Compiling with Cython**\n",
    "\n",
    "Cythonise the appropriate cell using magics"
   ]
  },
  {
   "cell_type": "code",
   "execution_count": null,
   "metadata": {},
   "outputs": [],
   "source": [
    "%%cython\n",
    "\n",
    "import numpy as np\n",
    "import time\n",
    "\n",
    "def kernel(zr, zi, cr, ci, radius, num_iters):\n",
    "    count = 0\n",
    "    while ((zr*zr + zi*zi) < (radius*radius)) and count < num_iters:\n",
    "        zr, zi = zr * zr - zi * zi + cr, 2 * zr * zi + ci\n",
    "        count += 1\n",
    "    return count\n",
    "\n",
    "def compute_mandel_cyt(cr, ci, N, bound, radius=1000.):\n",
    "    t0 = time.time()\n",
    "    mandel = np.empty((N, N), dtype=int)\n",
    "    grid_x = np.linspace(-bound, bound, N)\n",
    "\n",
    "    for i, x in enumerate(grid_x):\n",
    "        for j, y in enumerate(grid_x):\n",
    "            mandel[i,j] = kernel(x, y, cr, ci, radius, N)\n",
    "    return mandel, time.time() - t0"
   ]
  },
  {
   "cell_type": "code",
   "execution_count": null,
   "metadata": {},
   "outputs": [],
   "source": [
    "def cython_run():\n",
    "    kwargs = dict(cr=0.3852, ci=-0.2026,\n",
    "              N=200,\n",
    "              bound=1.2)\n",
    "    print(\"Using Cython compiler\")\n",
    "    mandel_func = compute_mandel_cyt\n",
    "    mandel_set, runtime = mandel_func(**kwargs)\n",
    "    print(\"Mandelbrot set generated: \\n\")\n",
    "    print(\"Pure Python runtime: \", mandel_timings[0])\n",
    "    print(\"Compiled with Cython: {}\\n\".format(runtime))\n",
    "    plot_mandel(mandel_set)\n",
    "    mandel_timings.append(runtime)"
   ]
  },
  {
   "cell_type": "code",
   "execution_count": null,
   "metadata": {},
   "outputs": [],
   "source": [
    "%time cython_run()"
   ]
  },
  {
   "cell_type": "markdown",
   "metadata": {},
   "source": [
    "Not much faster, but still, an improvement. We are going to see more significant improvements when we implement **static type declarations.**\n",
    "\n",
    "### **Attempt 3: Static Type Declarations**"
   ]
  },
  {
   "cell_type": "code",
   "execution_count": null,
   "metadata": {
    "slideshow": {
     "slide_type": "-"
    }
   },
   "outputs": [],
   "source": [
    "%%cython\n",
    "\n",
    "import numpy as np\n",
    "import time\n",
    "\n",
    "def kernel(double zr, double zi, double cr, double ci, \n",
    "           double radius, int num_iters):\n",
    "    cdef int count = 0\n",
    "    while ((zr*zr + zi*zi) < (radius*radius)) and count < num_iters:\n",
    "        zr, zi = zr * zr - zi * zi + cr, 2 * zr * zi + ci\n",
    "        count += 1\n",
    "    return count\n",
    "\n",
    "def compute_mandel_cyt(cr, ci, N, bound, radius=1000.):\n",
    "    t0 = time.time()\n",
    "    mandel = np.empty((N, N), dtype=int)\n",
    "    grid_x = np.linspace(-bound, bound, N)\n",
    "    \n",
    "    for i, x in enumerate(grid_x):\n",
    "        for j, y in enumerate(grid_x):\n",
    "            mandel[i,j] = kernel(x, y, cr, ci, radius, N)\n",
    "    return mandel, time.time() - t0"
   ]
  },
  {
   "cell_type": "code",
   "execution_count": null,
   "metadata": {
    "slideshow": {
     "slide_type": "slide"
    }
   },
   "outputs": [],
   "source": [
    "def cython_run():\n",
    "    kwargs = dict(cr=0.3852, ci=-0.2026,\n",
    "              N=200,\n",
    "              bound=1.2)\n",
    "    print(\"Using Cython compiler & static type declarations\")\n",
    "    mandel_func = compute_mandel_cyt\n",
    "    mandel_set, runtime = mandel_func(**kwargs)\n",
    "    print(\"Mandelbrot set generated: \\n\")\n",
    "    print(\"Pure Python runtime: \", mandel_timings[0])\n",
    "    print(\"Compiled with Cython: \", mandel_timings[1])\n",
    "    print(\"Type declaration in kernel: {}\\n\".format(runtime))\n",
    "    mandel_timings.append(runtime) \n",
    "    plot_mandel(mandel_set)"
   ]
  },
  {
   "cell_type": "code",
   "execution_count": null,
   "metadata": {
    "slideshow": {
     "slide_type": "slide"
    }
   },
   "outputs": [],
   "source": [
    "%time cython_run()"
   ]
  },
  {
   "cell_type": "markdown",
   "metadata": {},
   "source": [
    "As you can see, the speedup is significant because of this, but can often be overused. There is a tendancy to '*type*' everything in sight which can slow down your code fractionally rather than improve it\n",
    "### **Attempt 4: Function call overhead**"
   ]
  },
  {
   "cell_type": "code",
   "execution_count": null,
   "metadata": {
    "slideshow": {
     "slide_type": "slide"
    }
   },
   "outputs": [],
   "source": [
    "%%cython\n",
    "\n",
    "import numpy as np\n",
    "import time\n",
    "\n",
    "cdef int kernel(double zr, double zi, double cr, double ci, \n",
    "           double radius, int num_iters):\n",
    "    cdef int count = 0\n",
    "    while ((zr*zr + zi*zi) < (radius*radius)) and count < num_iters:\n",
    "        zr, zi = zr * zr - zi * zi + cr, 2 * zr * zi + ci\n",
    "        count += 1\n",
    "    return count\n",
    "\n",
    "def compute_mandel_cyt(cr, ci, N, bound, radius=1000.):\n",
    "    t0 = time.time()\n",
    "    mandel = np.empty((N, N), dtype=int)\n",
    "    grid_x = np.linspace(-bound, bound, N)\n",
    "    \n",
    "    for i, x in enumerate(grid_x):\n",
    "        for j, y in enumerate(grid_x):\n",
    "            mandel[i,j] = kernel(x, y, cr, ci, radius, N)\n",
    "    return mandel, time.time() - t0"
   ]
  },
  {
   "cell_type": "code",
   "execution_count": null,
   "metadata": {
    "slideshow": {
     "slide_type": "subslide"
    }
   },
   "outputs": [],
   "source": [
    "def cython_run():\n",
    "    kwargs = dict(cr=0.3852, ci=-0.2026,\n",
    "              N=200,\n",
    "              bound=1.2)\n",
    "    print(\"Using Cython compiler & static type declarations\")\n",
    "    mandel_func = compute_mandel_cyt\n",
    "    mandel_set, runtime = mandel_func(**kwargs)\n",
    "    print(\"Mandelbrot set generated: \\n\")\n",
    "    print(\"Pure Python runtime: \", mandel_timings[0])\n",
    "    print(\"Compiled with Cython: \", mandel_timings[1])\n",
    "    print(\"Type declaration in kernel: \", mandel_timings[2])\n",
    "    print(\"Kernel as a C function: {}\\n\".format(runtime))\n",
    "    mandel_timings.append(runtime) \n",
    "    plot_mandel(mandel_set)"
   ]
  },
  {
   "cell_type": "code",
   "execution_count": null,
   "metadata": {},
   "outputs": [],
   "source": [
    "%time cython_run()"
   ]
  },
  {
   "cell_type": "markdown",
   "metadata": {
    "slideshow": {
     "slide_type": "-"
    }
   },
   "source": [
    "### **Attempt 5: Using NumPy arrays and compiler directives with Cython**\n",
    "\n",
    "Cython's support of fast indexing, declaring types and dimensions can improve the runtime even more.\n",
    "\n",
    "We need to cimport it \n",
    "\n",
    "We can also speed up the loop by removing the `enumerate` keyword and define new loop variables\n",
    "\n",
    "Speeding up the code further can be done using our compiler directives which can turn certain features on of off.\n",
    "\n",
    "Here we will use `boundscheck` and `wraparound`, assuming no indexing errors or negative indexing"
   ]
  },
  {
   "cell_type": "code",
   "execution_count": null,
   "metadata": {},
   "outputs": [],
   "source": [
    "%%cython\n",
    "\n",
    "import numpy as np\n",
    "import time\n",
    "cimport numpy as cnp\n",
    "\n",
    "from cython cimport boundscheck, wraparound\n",
    "\n",
    "@wraparound(False)\n",
    "@boundscheck(False)\n",
    "\n",
    "cdef int kernel(double zr, double zi, double cr, double ci, \n",
    "           double radius, int num_iters):\n",
    "    cdef int count = 0\n",
    "    while ((zr*zr + zi*zi) < (radius*radius)) and count < num_iters:\n",
    "        zr, zi = zr * zr - zi * zi + cr, 2 * zr * zi + ci\n",
    "        count += 1\n",
    "    return count\n",
    "\n",
    "def compute_mandel_cyt(cr, ci, N, bound, radius=1000.):\n",
    "    t0 = time.time()\n",
    "    \n",
    "    cdef cnp.ndarray[cnp.int_t, ndim=2] mandel\n",
    "    mandel = np.empty((N, N), dtype=int)\n",
    "    \n",
    "    cdef cnp.ndarray[cnp.double_t, ndim=1] grid_x\n",
    "    grid_x = np.linspace(-bound, bound, N)\n",
    "    \n",
    "    cdef:\n",
    "        int i, j\n",
    "        double x, y\n",
    "    \n",
    "    for i in range(N):\n",
    "        for j in range(N):\n",
    "            x = grid_x[i]\n",
    "            y = grid_x[j]\n",
    "            \n",
    "            mandel[i,j] = kernel(x, y, cr, ci, radius, N)\n",
    "    return mandel, time.time() - t0"
   ]
  },
  {
   "cell_type": "code",
   "execution_count": null,
   "metadata": {},
   "outputs": [],
   "source": [
    "def cython_run():\n",
    "    kwargs = dict(cr=0.3852, ci=-0.2026,\n",
    "              N=200,\n",
    "              bound=1.2)\n",
    "    print(\"Using Cython compiler\")\n",
    "    mandel_func = compute_mandel_cyt\n",
    "    mandel_set, runtime = mandel_func(**kwargs)\n",
    "    print(\"Mandelbrot set generated: \\n\")\n",
    "    print(\"Pure Python runtime: \", mandel_timings[0])\n",
    "    print(\"Compiled with Cython: \", mandel_timings[1])\n",
    "    print(\"Type declaration in kernel: \", mandel_timings[2])\n",
    "    print(\"Kernel as C function: \", mandel_timings[3])\n",
    "    print(\"Fast Indexing and directives: {}\\n\".format(runtime))\n",
    "    mandel_timings.append(runtime)\n",
    "    plot_mandel(mandel_set)\n",
    "    global speed_up_factor\n",
    "    speed_up_factor = 10 * round((mandel_timings[0]/mandel_timings[4])/10)\n",
    "    \n",
    "    print(\"Final speedup of around {} times the original Python code!\\n\".format(speed_up_factor))"
   ]
  },
  {
   "cell_type": "code",
   "execution_count": null,
   "metadata": {
    "slideshow": {
     "slide_type": "slide"
    }
   },
   "outputs": [],
   "source": [
    "%time cython_run()"
   ]
  },
  {
   "cell_type": "markdown",
   "metadata": {},
   "source": [
    "### **Plot Times**"
   ]
  },
  {
   "cell_type": "code",
   "execution_count": null,
   "metadata": {},
   "outputs": [],
   "source": [
    "labels = [\"Python\", \"Cython\", \"Cython\\nStatic\", \"Cython\\nFunc.\", \"Cython\\nCompiler\"]\n",
    "\n",
    "plt.bar(range(len(mandel_timings)), mandel_timings)\n",
    "plt.xticks(range(len(mandel_timings)),labels)\n",
    "\n",
    "plt.ylabel('Time (sec)')\n",
    "plt.yscale(\"log\")\n",
    "plt.title(\"Mandlebrot\")"
   ]
  },
  {
   "cell_type": "markdown",
   "metadata": {},
   "source": [
    "Now we can do longer calculations, so let's\n",
    "- zoom in by a factor of **10**\n",
    "- increase the number of iterations by a factor of **10**"
   ]
  },
  {
   "cell_type": "code",
   "execution_count": null,
   "metadata": {},
   "outputs": [],
   "source": [
    "def speed_run():\n",
    "    kwargs = dict(cr=0.3852, ci=-0.2026,\n",
    "              N=2000,\n",
    "              bound=0.12)\n",
    "    mandel_func = compute_mandel_cyt\n",
    "    mandel_set, runtime = mandel_func(**kwargs)\n",
    "    print(\"Mandelbrot set generated: \\n\")\n",
    "    print(\"Using advanced techniques: {}\\n\".format(runtime))\n",
    "    plot_mandel(mandel_set)\n",
    "    print(\"Assuming the same speed up factor, our original code would take\", (speed_up_factor*runtime)/60, \"minutes\")"
   ]
  },
  {
   "cell_type": "code",
   "execution_count": null,
   "metadata": {},
   "outputs": [],
   "source": [
    "speed_run()"
   ]
  },
  {
   "cell_type": "markdown",
   "metadata": {},
   "source": [
    "***\n",
    "\n",
    "\n",
    "# <center>Cheatsheet<center/>\n"
   ]
  },
  {
   "cell_type": "markdown",
   "metadata": {},
   "source": [
    "It can be difficult to keep track of the steps to take when optimising code with Cython. The absolute essentials for working from the command line are as follows;\n",
    "    \n",
    "1. A `.pyx` file containing the code you wish to 'cythonize'\n",
    "2. A `main.py` where your function(s) can be implemented\n",
    "3. A `setup.py` to build your extension\n",
    "4. Run your code using `python setup.py build_ext --inplace`\n",
    "\n",
    "Once those 4 things are done, the rest can be considered as 'optional' and there is no need to do them in order. The more of these you can use in your code, the better\n",
    "\n",
    "* Use static type declarations (`int`, `double`)\n",
    "* Reduce overheads by;\n",
    "    * defining functions using `cdef`\n",
    "    * generate wrappers using `cpdef`\n",
    "* Use `cimport` and utilise fast indexing C-numpy arrays and types\n",
    "* Use compiler directives to turn off certain python features\n",
    "\n",
    "***"
   ]
  }
 ],
 "metadata": {
  "celltoolbar": "Slideshow",
  "kernelspec": {
   "display_name": "Python 3",
   "language": "python",
   "name": "python3"
  },
  "language_info": {
   "codemirror_mode": {
    "name": "ipython",
    "version": 3
   },
   "file_extension": ".py",
   "mimetype": "text/x-python",
   "name": "python",
   "nbconvert_exporter": "python",
   "pygments_lexer": "ipython3",
   "version": "3.8.5"
  }
 },
 "nbformat": 4,
 "nbformat_minor": 4
}
