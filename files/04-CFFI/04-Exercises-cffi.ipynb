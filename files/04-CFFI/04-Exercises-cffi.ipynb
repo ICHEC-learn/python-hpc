{
 "cells": [
  {
   "cell_type": "markdown",
   "metadata": {},
   "source": [
    "<center><img src=\"../../fig/ICHEC_Logo.jpg\" alt=\"Drawing\" style=\"width: 500px;\"/>\n",
    "\n",
    "# <center> Exercises"
   ]
  },
  {
   "cell_type": "markdown",
   "metadata": {},
   "source": [
    "Use the template submission script below to submit your files to the specialised queue. Substitute the `{# MY_JOB #}`, `{# MY_FILE #}`, `{# MY_ENV #}`, `{# MY_COMMAND #}`, strings for appropriate job, file name, as well as correct commands and environment. \n",
    "\n",
    "```slurm\n",
    "#!/bin/bash\n",
    "#SBATCH --nodes=1\n",
    "#SBATCH --time=00:10:00\n",
    "#SBATCH -A course\n",
    "#SBATCH --job-name={# MY_JOB #}\n",
    "#SBATCH -p CourseDevQ\n",
    "#SBATCH --reservation=CourseMay\n",
    "\n",
    "\n",
    "module purge\n",
    "module load conda\n",
    "module list\n",
    "\n",
    "source activate {# MY_ENV #}\n",
    "\n",
    "cd $SLURM_SUBMIT_DIR\n",
    "\n",
    "{# MY_COMMAND #} {# MY_FILE #}.py\n",
    "\n",
    "exit 0\n",
    "```"
   ]
  },
  {
   "cell_type": "markdown",
   "metadata": {},
   "source": [
    "****\n",
    "\n",
    "# <center>**`cffi`**\n",
    "\n",
    "### <center> 20 minutes\n",
    "******"
   ]
  },
  {
   "cell_type": "markdown",
   "metadata": {},
   "source": [
    "Consider the fibonacci code given below written in [`fibonacci.c`](exercise1_2/fibonacci.c). It requires the user to input a positive integer `n`, which is the number of terms to be performed by the `fibo` function, for which the arguments are two `int *`. \n",
    "    \n",
    "The `fibo` function itself is utilised in a for loop.\n",
    "    \n",
    "Use either ABI in-line or API out-of-line methods as outlined above to import and implement this code.\n",
    "    \n",
    "Below is a skeleton code you can use to implement your library\n",
    "    \n",
    "```python\n",
    "    \n",
    "import numpy as np \n",
    "import time\n",
    "    \n",
    "# TODO (API) From newly created library import ffi, lib\n",
    "\n",
    "# TODO (ABI) Open library and define function\n",
    "\n",
    "# Number of terms in sequence\n",
    "n = 10\n",
    "\n",
    "# TODO: Define your pointer objects (HINT: there is no buffer and nothing to cast. Use this to create a new variable using ffi.new)\n",
    "aptr = \n",
    "bptr = \n",
    "    \n",
    "# Sets up the first two terms of fibonacci\n",
    "aptr[0] = 0\n",
    "bptr[0] = 1\n",
    "    \n",
    "# \n",
    "    \n",
    "for i in range(n+1):\n",
    "    # TODO: Call the function\n",
    "    print(bptr[0]\n",
    "```"
   ]
  },
  {
   "cell_type": "markdown",
   "metadata": {},
   "source": [
    "#### <center> <b>Exercise 1: API out-of-line<b/>\n",
    "\n",
    "* Create API_fibo.py\n",
    "* Define the function using `ffibuilder.cdef`\n",
    "* Find the relevant section of code in `fibonacci.c` and define it and the library using `ffibuilder.set_source`\n",
    "* Run the file\n",
    "* Edit the skeleton code above\n",
    "* **Work outside the notebook to get more experience using the compute nodes**\n",
    "<br><br>\n",
    "<div class=\"alert alert-block alert-danger\">\n",
    "You may find a ImportError related to dynamic module export function. If this happens, try from a different directory\n",
    "<div/>\n",
    "***"
   ]
  },
  {
   "cell_type": "markdown",
   "metadata": {},
   "source": [
    "#### <center>**Exercise 2: ABI in-line**\n",
    "* Create a Makefile using the previous example as a template\n",
    "* `make` the library\n",
    "* Open the library using `ffi.dlopen`\n",
    "* Edit the skeleton code\n",
    "* **Work outside the notebook to get more experience using the compute nodes**\n"
   ]
  },
  {
   "cell_type": "markdown",
   "metadata": {},
   "source": [
    "***\n",
    "### <center>**Bonus Exercises**\n",
    "    \n",
    "This exercise is based on `evolve.py` which we use a few times during this course. You can implement this in either ABI or API modes, or both! \n",
    "    \n",
    "**All existing file names are linked. You may wish to create a few copies of [`heat_equation_simple.py`](exercise3/heat_equation_simple.py) for different methods**\n",
    "\n",
    "<br>\n",
    "    \n",
    "#### <center> **Exercise 3: `evolve.py`**\n",
    "    \n",
    "**API mode:**\n",
    "    \n",
    " By copying and pasting the C code in [`evolve.c`](./evolve.c) edit the build file below to utilize the C code using API out-line mode. \n",
    "  - Run the build file to create the library\n",
    "  - Import your newly created library back into [`heat_equation_simple.py`](./heat_equation_simple.py).\n",
    "   "
   ]
  },
  {
   "cell_type": "markdown",
   "metadata": {},
   "source": [
    "**ABI mode:**\n",
    "\n",
    "The files [`evolve.h`](./evolve.h) and [`evolve.c`](./evolve.c) contain a pure C implementation of the single time step in the heat equation. The C implementation can be built into a shared library with the provided [`Makefile`](./Makefile) by executing the `make` command. \n",
    "- Edit the [`heat_equation_simple.py`](./heat_equation_simple.py) file to use cffi in the ABI in-line mode.\n",
    "  -  Utilize the library function instead of the Python function. "
   ]
  }
 ],
 "metadata": {
  "kernelspec": {
   "display_name": "Python 3",
   "language": "python",
   "name": "python3"
  },
  "language_info": {
   "codemirror_mode": {
    "name": "ipython",
    "version": 3
   },
   "file_extension": ".py",
   "mimetype": "text/x-python",
   "name": "python",
   "nbconvert_exporter": "python",
   "pygments_lexer": "ipython3",
   "version": "3.8.5"
  }
 },
 "nbformat": 4,
 "nbformat_minor": 4
}
