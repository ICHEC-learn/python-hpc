{
 "cells": [
  {
   "cell_type": "markdown",
   "metadata": {},
   "source": [
    "<img src=\"../../img/ICHEC_Logo.png\" alt=\"Drawing\" style=\"width: 500px;\"/>\n",
    "\n",
    "# <center> Exercises\n"
   ]
  },
  {
   "cell_type": "markdown",
   "metadata": {},
   "source": [
    "****\n",
    "\n",
    "# <center>**`cffi`**\n",
    "\n",
    "### <center> 20 minutes\n",
    "******"
   ]
  },
  {
   "cell_type": "markdown",
   "metadata": {},
   "source": [
    "Consider the fibonacci code given below written in [`fibonacci.c`](./fibonacci.c). It requires the user to input a positive integer `n`, which is the number of terms to be performed by the `fibo` function, for which the arguments are two `int *`. \n",
    "    \n",
    "The `fibo` function itself is utilised in a for loop.\n",
    "    \n",
    "Use either ABI in-line or API out-of-line methods as outlined above to import and implement this code.\n",
    "    \n",
    "Below is a skeleton code you can use to implement your library\n",
    "    \n",
    "```python\n",
    "    \n",
    "import numpy as np \n",
    "import time\n",
    "    \n",
    "# TODO (API) From newly created library import ffi, lib\n",
    "\n",
    "# TODO (ABI) Open library and define function\n",
    "\n",
    "# Number of terms in sequence\n",
    "n = 10\n",
    "\n",
    "# TODO: Define your pointer objects (HINT: there is no buffer and nothing to cast. Use this to create a new variable using ffi.new)\n",
    "aptr = \n",
    "bptr = \n",
    "    \n",
    "# Sets up the first two terms of fibonacci\n",
    "aptr[0] = 0\n",
    "bptr[0] = 1\n",
    "    \n",
    "# \n",
    "    \n",
    "for i in range(n+1):\n",
    "    # TODO: Call the function\n",
    "    print(bptr[0]\n",
    "```"
   ]
  },
  {
   "cell_type": "markdown",
   "metadata": {},
   "source": [
    "#### <center> <b>Exercise 1: API out-of-line<b/>\n",
    "\n",
    "* Create API_fibo.py\n",
    "* Define the function using `ffibuilder.cdef`\n",
    "* Find the relevant section of code in `fibonacci.c` and define it and the library using `ffibuilder.set_source`\n",
    "* Run the file\n",
    "* Edit the skeleton code above\n",
    "* **Work outside the notebook to get more experience using the compute nodes**\n",
    "<br><br>\n",
    "<div class=\"alert alert-block alert-danger\">\n",
    "You may find a ImportError related to dynamic module export function. If this happens, try from a different directory\n",
    "<div/>"
   ]
  },
  {
   "cell_type": "code",
   "execution_count": 4,
   "metadata": {},
   "outputs": [
    {
     "name": "stdout",
     "output_type": "stream",
     "text": [
      "Writing API_fibo.py\n"
     ]
    }
   ],
   "source": [
    "%%writefile API_fibo.py\n",
    "\n",
    "import cffi\n",
    "ffibuilder = cffi.FFI()\n",
    "ffibuilder.cdef(\"\"\"void fibo(int *, int *);\"\"\")\n",
    "ffibuilder.set_source(\"fibonacci._API_fibo\", r\"\"\"\n",
    "  void fibo(int *a, int *b)\n",
    "  {\n",
    "    int next;\n",
    "    next = *a + *b;\n",
    "    *b = *a;\n",
    "    *a = next;\n",
    "  }\n",
    "  \"\"\")\n",
    "\n",
    "\n",
    "if __name__ == \"__main__\":\n",
    "    ffibuilder.compile(verbose=True)"
   ]
  },
  {
   "cell_type": "code",
   "execution_count": 5,
   "metadata": {},
   "outputs": [
    {
     "name": "stdout",
     "output_type": "stream",
     "text": [
      "generating ./fibonacci/_API_fibo.c\n",
      "the current directory is '/home/jupyter-cwerner/PyHPC-2022/04-CFFI/soln'\n",
      "running build_ext\n",
      "building 'fibonacci._API_fibo' extension\n",
      "gcc -pthread -B /home/jupyter-cwerner/.conda/envs/python_hpc/compiler_compat -Wl,--sysroot=/ -Wsign-compare -DNDEBUG -g -fwrapv -O3 -Wall -Wstrict-prototypes -fPIC -I/home/jupyter-cwerner/.conda/envs/python_hpc/include/python3.7m -c fibonacci/_API_fibo.c -o ./fibonacci/_API_fibo.o\n",
      "gcc -pthread -shared -B /home/jupyter-cwerner/.conda/envs/python_hpc/compiler_compat -L/home/jupyter-cwerner/.conda/envs/python_hpc/lib -Wl,-rpath=/home/jupyter-cwerner/.conda/envs/python_hpc/lib -Wl,--no-as-needed -Wl,--sysroot=/ ./fibonacci/_API_fibo.o -o ./fibonacci/_API_fibo.cpython-37m-x86_64-linux-gnu.so\n"
     ]
    }
   ],
   "source": [
    "!python API_fibo.py"
   ]
  },
  {
   "cell_type": "code",
   "execution_count": 6,
   "metadata": {},
   "outputs": [
    {
     "name": "stdout",
     "output_type": "stream",
     "text": [
      "0\n",
      "1\n",
      "1\n",
      "2\n",
      "3\n",
      "5\n",
      "8\n",
      "13\n",
      "21\n",
      "34\n",
      "55\n"
     ]
    }
   ],
   "source": [
    "import numpy as np \n",
    "import time\n",
    "\n",
    "from fibonacci._API_fibo import ffi, lib\n",
    "\n",
    "n=10\n",
    "\n",
    "# \"pointer\" objects\n",
    "aptr = ffi.new(\"int *\")\n",
    "bptr = ffi.new(\"int *\")\n",
    "\n",
    "aptr[0] = 0\n",
    "bptr[0] = 1\n",
    "\n",
    "for i in range(n+1):\n",
    "    lib.fibo(aptr, bptr)\n",
    "    print(bptr[0])"
   ]
  },
  {
   "cell_type": "markdown",
   "metadata": {},
   "source": [
    "#### <center>**Exercise 2: ABI in-line**\n",
    "* Create a Makefile using the previous example as a template\n",
    "* `make` the library\n",
    "* Open the library using `ffi.dlopen`\n",
    "* Edit the skeleton code\n",
    "* **Work outside the notebook to get more experience using the compute nodes**\n"
   ]
  },
  {
   "cell_type": "code",
   "execution_count": 7,
   "metadata": {},
   "outputs": [
    {
     "name": "stdout",
     "output_type": "stream",
     "text": [
      "Writing Makefile\n"
     ]
    }
   ],
   "source": [
    "%%writefile Makefile\n",
    "CC=gcc\n",
    "CFLAGS=-fPIC -O3\n",
    "LDFLAGS=-shared\n",
    "\n",
    "fibonacci.so: fibonacci.c\n",
    "\t$(CC) -o fibonacci.so $(LDFLAGS) $(CFLAGS) fibonacci.c"
   ]
  },
  {
   "cell_type": "code",
   "execution_count": 8,
   "metadata": {},
   "outputs": [
    {
     "name": "stdout",
     "output_type": "stream",
     "text": [
      "04-Soln-cffi.ipynb  bottle_large.dat  fibonacci\t\t       Makefile\n",
      "API_fibo.py\t    evolve.c\t      fibonacci.c\n",
      "bottle.dat\t    evolve.h\t      heat_equation_simple.py\n"
     ]
    }
   ],
   "source": [
    "!ls"
   ]
  },
  {
   "cell_type": "code",
   "execution_count": 9,
   "metadata": {},
   "outputs": [
    {
     "name": "stdout",
     "output_type": "stream",
     "text": [
      "gcc -o fibonacci.so -shared -fPIC -O3 fibonacci.c\n",
      "\u001b[01m\u001b[Kfibonacci.c:\u001b[m\u001b[K In function ‘\u001b[01m\u001b[Kmain\u001b[m\u001b[K’:\n",
      "\u001b[01m\u001b[Kfibonacci.c:12:5:\u001b[m\u001b[K \u001b[01;35m\u001b[Kwarning: \u001b[m\u001b[Kignoring return value of ‘\u001b[01m\u001b[Kscanf\u001b[m\u001b[K’, declared with attribute warn_unused_result [\u001b[01;35m\u001b[K-Wunused-result\u001b[m\u001b[K]\n",
      "     \u001b[01;35m\u001b[Kscanf(\"%d\",&n)\u001b[m\u001b[K;\n",
      "     \u001b[01;35m\u001b[K^~~~~~~~~~~~~~\u001b[m\u001b[K\n"
     ]
    }
   ],
   "source": [
    "!make"
   ]
  },
  {
   "cell_type": "code",
   "execution_count": 10,
   "metadata": {},
   "outputs": [
    {
     "name": "stdout",
     "output_type": "stream",
     "text": [
      "0\n",
      "1\n",
      "1\n",
      "2\n",
      "3\n",
      "5\n",
      "8\n",
      "13\n",
      "21\n",
      "34\n",
      "55\n",
      "89\n"
     ]
    }
   ],
   "source": [
    "from cffi import FFI\n",
    "import numpy as np\n",
    "import time \n",
    "\n",
    "ffi = FFI()\n",
    "lib = ffi.dlopen('./fibonacci.so')\n",
    "ffi.cdef(\"void fibo(int *, int *);\")\n",
    "\n",
    "n=10\n",
    "\n",
    "# \"pointer\" objects\n",
    "aptr = ffi.new(\"int *\")\n",
    "bptr = ffi.new(\"int *\")\n",
    "\n",
    "aptr[0] = 0\n",
    "bptr[0] = 1\n",
    "\n",
    "print(aptr[0])\n",
    "\n",
    "for i in range(n+1):\n",
    "    lib.fibo(aptr, bptr)\n",
    "    print(aptr[0])"
   ]
  },
  {
   "cell_type": "markdown",
   "metadata": {},
   "source": [
    "***\n",
    "### <center>**Bonus Exercises**\n",
    "    \n",
    "This exercise is based on `evolve.py` which we use a few times during this course. You can implement this in either ABI or API modes, or both! \n",
    "    \n",
    "**All existing file names are linked. You may wish to create a few copies of [`heat_equation_simple.py`](./heat_equation_simple.py) for different methods**\n",
    "\n",
    "<br>\n",
    "    \n",
    "#### <center> **Exercise 3: `evolve.py`**\n",
    "    \n",
    "**API mode:**\n",
    "    \n",
    " By copying and pasting the C code in [`evolve.c`](./evolve.c) edit the build file below to utilize the C code using API out-line mode. \n",
    "  - Run the build file to create the library\n",
    "  - Import your newly created library back into [`heat_equation_simple.py`](./heat_equation_simple.py).\n",
    "   "
   ]
  },
  {
   "cell_type": "code",
   "execution_count": 11,
   "metadata": {},
   "outputs": [
    {
     "name": "stdout",
     "output_type": "stream",
     "text": [
      "Writing API_build.py\n"
     ]
    }
   ],
   "source": [
    "%%writefile API_build.py\n",
    "\n",
    "import cffi\n",
    "ffibuilder = cffi.FFI()\n",
    "ffibuilder.set_source(\"package._out\", r\"\"\"\n",
    "void evolve(double *u, double *u_previous, int nx, int ny, \n",
    "            double a, double dt, double dx2, double dy2)\n",
    "{\n",
    "  int i, j;\n",
    "  int ij, ip, im, jp, jm;\n",
    "\n",
    "  for (i=1; i < nx-1; i++)\n",
    "    for (j=1; j < ny-1; j++) {\n",
    "      // Linearisation for 2D array\n",
    "      ij = j + i*nx;\n",
    "      ip = j + (i+1)*nx;\n",
    "      im = j + (i-1)*nx;\n",
    "      jp = (j + 1) + i*nx;\n",
    "      jm = (j - 1) + i*nx;\n",
    "      u[ij] = u_previous[ij] + a * dt * ( \n",
    "              (u_previous[ip] - 2*u_previous[ij] + u_previous[im]) / dx2 + \n",
    "              (u_previous[jp] - 2*u_previous[ij] + u_previous[jm]) / dy2 );\n",
    "      }\n",
    "\n",
    "  memcpy(u_previous, u, nx*ny*sizeof(double));\n",
    "}\n",
    "\"\"\")\n",
    "ffibuilder.cdef(\"\"\"\n",
    "            void evolve(double *, double *, int, int, double, double, double, double);\n",
    "        \"\"\")\n",
    "\n",
    "if __name__ == \"__main__\":\n",
    "    ffibuilder.compile(verbose=True)"
   ]
  },
  {
   "cell_type": "code",
   "execution_count": 12,
   "metadata": {},
   "outputs": [
    {
     "name": "stdout",
     "output_type": "stream",
     "text": [
      "generating ./package/_out.c\n",
      "the current directory is '/home/jupyter-cwerner/PyHPC-2022/04-CFFI/soln'\n",
      "running build_ext\n",
      "building 'package._out' extension\n",
      "gcc -pthread -B /home/jupyter-cwerner/.conda/envs/python_hpc/compiler_compat -Wl,--sysroot=/ -Wsign-compare -DNDEBUG -g -fwrapv -O3 -Wall -Wstrict-prototypes -fPIC -I/home/jupyter-cwerner/.conda/envs/python_hpc/include/python3.7m -c package/_out.c -o ./package/_out.o\n",
      "gcc -pthread -shared -B /home/jupyter-cwerner/.conda/envs/python_hpc/compiler_compat -L/home/jupyter-cwerner/.conda/envs/python_hpc/lib -Wl,-rpath=/home/jupyter-cwerner/.conda/envs/python_hpc/lib -Wl,--no-as-needed -Wl,--sysroot=/ ./package/_out.o -o ./package/_out.cpython-37m-x86_64-linux-gnu.so\n"
     ]
    }
   ],
   "source": [
    "!python API_build.py"
   ]
  },
  {
   "cell_type": "code",
   "execution_count": 13,
   "metadata": {},
   "outputs": [
    {
     "name": "stdout",
     "output_type": "stream",
     "text": [
      "Using cffi (API) Running Time: 0.022667646408081055\n"
     ]
    },
    {
     "data": {
      "image/png": "[encoded data removed]",
      "text/plain": [
       "<Figure size 432x288 with 1 Axes>"
      ]
     },
     "metadata": {
      "needs_background": "light"
     },
     "output_type": "display_data"
    }
   ],
   "source": [
    "import matplotlib.pyplot as plt\n",
    "import numpy as np\n",
    "import sys\n",
    "import time\n",
    "\n",
    "from package._out import ffi, lib\n",
    "\n",
    "# Set the colormap\n",
    "plt.rcParams['image.cmap'] = 'BrBG'\n",
    "\n",
    "# Basic parameters\n",
    "a = 0.5                # Diffusion constant\n",
    "timesteps = 200        # Number of time-steps to evolve system\n",
    "image_interval = 4000  # Write frequency for png files\n",
    "\n",
    "# Grid spacings\n",
    "dx = 0.01\n",
    "dy = 0.01\n",
    "dx2 = dx**2\n",
    "dy2 = dy**2\n",
    "\n",
    "# For stability, this is the largest interval possible\n",
    "# for the size of the time-step:\n",
    "dt = dx2*dy2 / ( 2*a*(dx2+dy2) )\n",
    "\n",
    "def initial_fields(filename):\n",
    "    field = np.loadtxt(filename)\n",
    "    field0 = np.copy(field)\n",
    "    return field, field0\n",
    "\n",
    "def write_field(field, step):\n",
    "    plt.gca().clear()\n",
    "    #plt.hold(False)\n",
    "    plt.imshow(field)\n",
    "    plt.axis('off')\n",
    "    plt.savefig('heat_{0:03d}.png'.format(step))\n",
    "\n",
    "def iterate(field, field0, timesteps, image_interval):\n",
    "    '''Same as ABI Mode'''\n",
    "     ###\n",
    "    field_ptr = ffi.cast(\"double *\", ffi.from_buffer(field))\n",
    "    field0_ptr = ffi.cast(\"double *\", ffi.from_buffer(field0))\n",
    "    nx, ny = field.shape\n",
    "\n",
    "    for i in range(1,timesteps+1):\n",
    "        lib.evolve(field_ptr, field0_ptr, nx, ny, a, dt, dx2, dy2)\n",
    "        if i % image_interval == 0:\n",
    "            write_field(field, i)\n",
    "\n",
    "def main():\n",
    "    filename = sys.argv[1]\n",
    "    field, field0 = initial_fields('bottle.dat')\n",
    "\n",
    "    write_field(field, 0)\n",
    "\n",
    "    t0 = time.time()\n",
    "    iterate(field, field0, timesteps, image_interval)\n",
    "    t1 = time.time()\n",
    "\n",
    "    write_field(field, timesteps)\n",
    "\n",
    "    print (\"Using cffi (API) Running Time: {0}\".format(t1-t0))\n",
    "\n",
    "main()"
   ]
  },
  {
   "cell_type": "markdown",
   "metadata": {},
   "source": [
    "**ABI mode:**\n",
    "\n",
    "The files [`evolve.h`](./evolve.h) and [`evolve.c`](./evolve.c) contain a pure C implementation of the single time step in the heat equation. The C implementation can be built into a shared library with the provided [`Makefile`](./Makefile) by executing the `make` command. \n",
    "- Edit the [`heat_equation_simple.py`](./heat_equation_simple.py) file to use cffi in the ABI in-line mode.\n",
    "  -  Utilize the library function instead of the Python function. \n",
    "\n",
    "<div class=\"alert alert-block alert-danger\">\n",
    "Beware of having multiple Makefiles in the same directory.\n",
    "<div/>"
   ]
  },
  {
   "cell_type": "code",
   "execution_count": 16,
   "metadata": {},
   "outputs": [
    {
     "name": "stdout",
     "output_type": "stream",
     "text": [
      "gcc -o libevolve.so -shared -fPIC -O3 evolve.c\n"
     ]
    }
   ],
   "source": [
    "!make"
   ]
  },
  {
   "cell_type": "code",
   "execution_count": 17,
   "metadata": {},
   "outputs": [
    {
     "name": "stdout",
     "output_type": "stream",
     "text": [
      "Index and cffi (ABI) Running Time: 0.015126943588256836\n"
     ]
    },
    {
     "data": {
      "image/png": "[encoded data removed]",
      "text/plain": [
       "<Figure size 432x288 with 1 Axes>"
      ]
     },
     "metadata": {
      "needs_background": "light"
     },
     "output_type": "display_data"
    }
   ],
   "source": [
    "import matplotlib.pyplot as plt\n",
    "import numpy as np\n",
    "import time\n",
    "\n",
    "from cffi import FFI \n",
    "ffi = FFI()\n",
    "lib = ffi.dlopen(\"./libevolve.so\") #./ when using functions from users own library\n",
    "ffi.cdef(\"\"\"void evolve(double *u, double *u_previous, int nx, int ny, double a, double dt, double dx2, double dy2);\"\"\")\n",
    "\n",
    "\n",
    "plt.rcParams['image.cmap'] = 'BrBG'\n",
    "\n",
    "# Basic parameters\n",
    "a = 0.5                # Diffusion constant\n",
    "timesteps = 200        # Number of time-steps to evolve system\n",
    "image_interval = 4000  # Write frequency for png files\n",
    "\n",
    "# Grid spacings\n",
    "dx = 0.01\n",
    "dy = 0.01\n",
    "dx2 = dx**2\n",
    "dy2 = dy**2\n",
    "\n",
    "# For stability, this is the largest interval possible\n",
    "# for the size of the time-step:\n",
    "dt = dx2*dy2 / ( 2*a*(dx2+dy2) )\n",
    "\n",
    "def initial_fields(filename):\n",
    "    field = np.loadtxt(filename)\n",
    "    field0 = np.copy(field)\n",
    "    return field, field0\n",
    "\n",
    "def write_field(field, step):\n",
    "    plt.gca().clear()\n",
    "    #plt.hold(False)\n",
    "    plt.imshow(field)\n",
    "    plt.axis('off')\n",
    "    plt.savefig('heat_{0:03d}.png'.format(step))\n",
    "\n",
    "def iterate(field, field0, timesteps, image_interval): \n",
    "    \n",
    "    '''New Stuff'''\n",
    "    ###\n",
    "    field_ptr = ffi.cast(\"double *\", ffi.from_buffer(field))\n",
    "    field0_ptr = ffi.cast(\"double *\", ffi.from_buffer(field0))\n",
    "    nx, ny = field.shape\n",
    "\n",
    "    for i in range(1,timesteps+1):\n",
    "        lib.evolve(field_ptr, field0_ptr, nx, ny, a, dt, dx2, dy2)\n",
    "        if i % image_interval == 0:\n",
    "            write_field(field, i)\n",
    "    ###\n",
    "\n",
    "def main():\n",
    "    field, field0 = initial_fields('bottle.dat')\n",
    "\n",
    "    write_field(field, 0)\n",
    "\n",
    "    t0 = time.time()\n",
    "    iterate(field, field0, timesteps, image_interval)\n",
    "    t1 = time.time()\n",
    "\n",
    "    write_field(field, timesteps)\n",
    "\n",
    "    print (\"Index and cffi (ABI) Running Time: {0}\".format(t1-t0))\n",
    "\n",
    "\n",
    "main()"
   ]
  }
 ],
 "metadata": {
  "kernelspec": {
   "display_name": "Python [conda env:.conda-python_hpc]",
   "language": "python",
   "name": "conda-env-.conda-python_hpc-py"
  },
  "language_info": {
   "codemirror_mode": {
    "name": "ipython",
    "version": 3
   },
   "file_extension": ".py",
   "mimetype": "text/x-python",
   "name": "python",
   "nbconvert_exporter": "python",
   "pygments_lexer": "ipython3",
   "version": "3.7.10"
  }
 },
 "nbformat": 4,
 "nbformat_minor": 4
}
