{
 "cells": [
  {
   "cell_type": "markdown",
   "metadata": {
    "slideshow": {
     "slide_type": "slide"
    }
   },
   "source": [
    "<center><img src=\"../img/ICHEC_Logo.png\" alt=\"Drawing\" style=\"width: 500px;\"/>\n",
    "\n",
    "# <center>C Foreign Function Interface for Python - `cffi`</center>"
   ]
  },
  {
   "cell_type": "markdown",
   "metadata": {
    "slideshow": {
     "slide_type": "fragment"
    }
   },
   "source": [
    "***\n",
    "## <center>Overview<center/>\n",
    "\n",
    "Coding in higher level languages like Python has advantages and disadvantages. One of the latter is that many useful libaries are written in lower level languages like C. \n",
    "    \n",
    "There are a few things one can do.\n",
    "    \n",
    "<details>\n",
    "    <summary markdown=\"span\">There are a few options...</summary>\n",
    "<br>\n",
    "   - Port all or part of the library to your language of choice<br>\n",
    "   - Write an extension in C to bridge the gap between the library and your language<br>\n",
    "   - Wrap the library using your language's <b>foreign function interface</b> (FFI) support<br>\n",
    "<br>\n",
    "<details>\n",
    "    <summary markdown=\"span\">So why are FFI wrappers best, usually?</summary>\n",
    "<br>\n",
    "   - Easier to write and maintain than a C-extension and more portable<br>\n",
    "   - The FFI meaning refers to the ability for code written in one language, also known as the <b>host</b> (eg. Python) to access and invoke functions from another <b>guest</b> language (eg. C, Fortran)<br>\n",
    "   - FFI utilities are common across multiple languages (Ruby, Lisp, Perl, Java)<br>\n",
    "<br>\n",
    "<details>\n",
    "    <summary markdown=\"span\">But there are times when not to use FFI</summary>\n",
    "<br>\n",
    "   - Implementation of your own low-level/optimised code, especially if you need to write custom code to directly process huge arrays, in order to get the performance you want<br>\n",
    "   - Delicate callbacks from the guest language into the host. Some complex callbacks can be difficult<br>\n",
    "   - Library makes use of compile-time or preprocessor features (eg. C macros)<br>\n",
    "</details>\n",
    "</details>\n",
    "</details>"
   ]
  },
  {
   "cell_type": "markdown",
   "metadata": {},
   "source": [
    "***\n",
    "## <center>`cffi`\n",
    "\n",
    "CFFI is an external package for Python that provides a C Foreign Function Interface for Python, and allows one to interact with almost any C code from Python (C++ not supported).\n",
    "\n",
    "The user needs to add C-like declarations (not static) to the Python code. Some knowledge of C is highly recommended.\n",
    "\n",
    "CFFI has two different **main** modes, ABI and API.\n",
    "\n",
    "- **ABI (Application Binary Interface)**: Accesses the library at the binary level. Considered the easier option, but has issues with non-Windows platforms. Function calls need to go through `libffi` library which is slow.\n",
    "- **API (Application Programmer Interface)**: A separate compilation step with a C compiler is utilised. Trickier option, but faster with C compiler. This mode compilers CPython C wrapper that directly involves target function\n",
    "\n",
    "The goal is not about embedding executable C code in Python, but instead calls existing C libraries from Python.\n",
    "\n",
    "There are 'sub-modes' of CFFI, each of ABI and API have **out-of-line** and **in-line** options. The modes that you should bear in mind are as follows:\n",
    "\n",
    "- **ABI, in line**: Easiest\n",
    "- **API, out of line**: Purely for performance"
   ]
  },
  {
   "cell_type": "markdown",
   "metadata": {},
   "source": [
    "### Using the FFI Interface\n",
    "\n",
    "The CFFI references can be found in the [documentation](https://cffi.readthedocs.io/en/latest/ref.html), however the most commonly used functions are as follows;\n",
    "\n",
    "When \n",
    "- `ffi.cast(\"C-type\", value)` - The value is casted between integers or pointers of any type\n",
    "- `ffi.dlopen(libpath, [flags]` - opens and returns a handle to a dynamic library\n",
    "- `ffibuilder`\n"
   ]
  },
  {
   "cell_type": "markdown",
   "metadata": {
    "slideshow": {
     "slide_type": "slide"
    }
   },
   "source": [
    "### `cffi` Modes\n",
    "\n",
    "* **ABI**\n",
    "    * 'Application Binary Interface'\n",
    "    * Accesses the libraries at the binary level\n",
    "    * Easier but can lead to problems (speed)\n",
    "    * **'in-line mode'** - everything set up every time you import your Python code\n"
   ]
  },
  {
   "cell_type": "markdown",
   "metadata": {
    "slideshow": {
     "slide_type": "subslide"
    }
   },
   "source": [
    "* **API**\n",
    "    * 'Application Programming Interface'\n",
    "    * Accesses the libraries with a C compiler (which they should be doing!)\n",
    "    * Faster as a result of C compiler\n",
    "    * **'out-of-line mode'** - separate step of preparation that produces a module which your main program imports"
   ]
  },
  {
   "cell_type": "markdown",
   "metadata": {},
   "source": [
    "\n",
    "### Importing an existing library<center/>\n",
    "    \n",
    "Here we are going to import the `sqrt` function from the C standard math library"
   ]
  },
  {
   "cell_type": "code",
   "execution_count": null,
   "metadata": {},
   "outputs": [],
   "source": [
    "from cffi import FFI\n",
    "ffi = FFI()\n",
    "\n",
    "lib = ffi.dlopen(\"libm.so.6\")\n",
    "ffi.cdef(\"\"\"float sqrtf(float x);\"\"\")\n",
    "a = lib.sqrtf(4)\n",
    "print(a)"
   ]
  },
  {
   "cell_type": "markdown",
   "metadata": {},
   "source": [
    "<div class=\"alert alert-block alert-info\">\n",
    "    Library files have the extension <b>.so</b> for Windows and UNIX systems and <b>.dylib</b> for Macs\n",
    "<div/>"
   ]
  },
  {
   "cell_type": "markdown",
   "metadata": {},
   "source": [
    "### Creating and using your own library"
   ]
  },
  {
   "cell_type": "markdown",
   "metadata": {},
   "source": [
    "***\n",
    "#### **ABI (in-line)** - \"Easy\" with poor performance"
   ]
  },
  {
   "cell_type": "markdown",
   "metadata": {},
   "source": [
    "**Step 1: Create your C file**"
   ]
  },
  {
   "cell_type": "code",
   "execution_count": null,
   "metadata": {},
   "outputs": [],
   "source": [
    "%%writefile ABI_add.c\n",
    "#include <stdio.h>\n",
    "\n",
    "void add(double *a, double *b, int n)\n",
    "{\n",
    "    int i;\n",
    "    for (i=0; i<n; i++) {\n",
    "        a[i] += b[i];\n",
    "    }\n",
    "}"
   ]
  },
  {
   "cell_type": "markdown",
   "metadata": {},
   "source": [
    "**Step 2: Create a** ***Makefile*** **for your library**"
   ]
  },
  {
   "cell_type": "code",
   "execution_count": null,
   "metadata": {},
   "outputs": [],
   "source": [
    "%%writefile Makefile\n",
    "CC=gcc\n",
    "CFLAGS=-fPIC -O3\n",
    "LDFLAGS=-shared\n",
    "\n",
    "mylib_add.so: ABI_add.c\n",
    "\t$(CC) -o ABI_add.so $(LDFLAGS) $(CFLAGS) ABI_add.c"
   ]
  },
  {
   "cell_type": "markdown",
   "metadata": {},
   "source": [
    "**Step 3: Create your library by using the `make` command in the terminal**"
   ]
  },
  {
   "cell_type": "markdown",
   "metadata": {},
   "source": [
    "- Use `ls` to see our directory beforehand"
   ]
  },
  {
   "cell_type": "code",
   "execution_count": null,
   "metadata": {},
   "outputs": [],
   "source": [
    "!ls"
   ]
  },
  {
   "cell_type": "markdown",
   "metadata": {},
   "source": [
    "- Run the `make` command"
   ]
  },
  {
   "cell_type": "code",
   "execution_count": null,
   "metadata": {},
   "outputs": [],
   "source": [
    "!make"
   ]
  },
  {
   "cell_type": "markdown",
   "metadata": {},
   "source": [
    "- Use `ls` to see the changes"
   ]
  },
  {
   "cell_type": "code",
   "execution_count": null,
   "metadata": {},
   "outputs": [],
   "source": [
    "!ls"
   ]
  },
  {
   "cell_type": "markdown",
   "metadata": {},
   "source": [
    "<br>\n",
    "\n",
    "- Our library has been added as a `.so` file (or `.dylib` depending on operating system)"
   ]
  },
  {
   "cell_type": "markdown",
   "metadata": {},
   "source": [
    "**Step 4: Import the library and cast the variables**\n",
    "\n",
    "Here we need to use specific functions to get the C library we created working;\n",
    "\n",
    "- `ffi.dlopen(libpath, [flags])` - opens and returns a handle to a dynamic library, which we can then use later to call the functions from that library\n",
    "- `ffi.cdef(\"C-type\", value)` - creates a new ffi object with the declaration of function\n",
    "- `ffi.cast(\"C-type\", value)` - The value is casted between integers or pointers of any type\n",
    "- `ffi.from_buffer([cdecl], python_buffer)` - Return an array of cdata that points to the data of the given Python object"
   ]
  },
  {
   "cell_type": "code",
   "execution_count": null,
   "metadata": {},
   "outputs": [],
   "source": [
    "from cffi import FFI\n",
    "import numpy as np\n",
    "import time \n",
    "\n",
    "ffi = FFI()\n",
    "lib = ffi.dlopen('./ABI_add.so')\n",
    "ffi.cdef(\"void add(double *, double *, int);\")\n",
    "\n",
    "\n",
    "t0=time.time()\n",
    "a = np.arange(0,200000,0.1)\n",
    "b = np.ones_like(a)\n",
    "\n",
    "# \"pointer\" objects\n",
    "aptr = ffi.cast(\"double *\", ffi.from_buffer(a))\n",
    "bptr = ffi.cast(\"double *\", ffi.from_buffer(b))\n",
    "\n",
    "lib.add(aptr, bptr, len(a))\n",
    "print(\"a + b = \", a)\n",
    "t1=time.time()\n",
    "\n",
    "print (\"\\ntime taken for ABI in line\", t1-t0)"
   ]
  },
  {
   "cell_type": "markdown",
   "metadata": {},
   "source": [
    "***"
   ]
  },
  {
   "cell_type": "markdown",
   "metadata": {},
   "source": [
    "#### **API (out of line)** - \"Hard\" with improved performance "
   ]
  },
  {
   "cell_type": "markdown",
   "metadata": {},
   "source": [
    "**Step 1: Create a python** ***build*** **file**\n",
    "\n",
    "- Set up an `ffibuilder` handle\n",
    "- `ffi.cdef(\"C-type\", value)` - Like before, creates a new ffi object\n",
    "- `ffibuilder.set_source`gives the name of the python extension module to produce, and some C source code as a string.  This C code needs to make the declarated functions, types and globals available"
   ]
  },
  {
   "cell_type": "code",
   "execution_count": null,
   "metadata": {},
   "outputs": [],
   "source": [
    "%%writefile API_add_build.py\n",
    "\n",
    "import cffi\n",
    "ffibuilder = cffi.FFI()\n",
    "ffibuilder.cdef(\"\"\"void API_add(double *, double *, int);\"\"\")\n",
    "ffibuilder.set_source(\"out_of_line._API_add\", r\"\"\"\n",
    "  void API_add(double *a, double *b, int n)\n",
    "  {\n",
    "      int i;\n",
    "      for (i=0; i<n; i++){\n",
    "          a[i] += b[i];\n",
    "          }\n",
    "          /* or some algorithm that is seriously faster in C than in Python */\n",
    "  }\n",
    "  \"\"\")\n",
    "\n",
    "\n",
    "if __name__ == \"__main__\":\n",
    "    ffibuilder.compile(verbose=True)"
   ]
  },
  {
   "cell_type": "markdown",
   "metadata": {},
   "source": [
    "**Step 2: Run the** ***build*** **file**"
   ]
  },
  {
   "cell_type": "code",
   "execution_count": null,
   "metadata": {},
   "outputs": [],
   "source": [
    "!python API_add_build.py"
   ]
  },
  {
   "cell_type": "markdown",
   "metadata": {},
   "source": [
    "<br>\n",
    "\n",
    "- This creates a new directory, here called `out_of_line`, which is the name of our module"
   ]
  },
  {
   "cell_type": "code",
   "execution_count": null,
   "metadata": {},
   "outputs": [],
   "source": [
    "!ls"
   ]
  },
  {
   "cell_type": "markdown",
   "metadata": {},
   "source": [
    "<br>\n",
    "\n",
    "- Checking inside `out_of_line`..."
   ]
  },
  {
   "cell_type": "code",
   "execution_count": null,
   "metadata": {},
   "outputs": [],
   "source": [
    "!ls -l out_of_line/"
   ]
  },
  {
   "cell_type": "markdown",
   "metadata": {},
   "source": [
    "<br>\n",
    "\n",
    "- We have our library `.so`/`.dylib` file , generated `.c` and `.o` files"
   ]
  },
  {
   "cell_type": "markdown",
   "metadata": {},
   "source": [
    "**Step 3: Import the library and cast the variables**"
   ]
  },
  {
   "cell_type": "code",
   "execution_count": null,
   "metadata": {},
   "outputs": [],
   "source": [
    "import numpy as np \n",
    "import time\n",
    "from out_of_line._API_add import ffi, lib\n",
    "\n",
    "t0=time.time()\n",
    "a = np.arange(0,200000,0.1)\n",
    "b = np.ones_like(a)\n",
    "\n",
    "# \"pointer\" objects\n",
    "aptr = ffi.cast(\"double *\", ffi.from_buffer(a))\n",
    "bptr = ffi.cast(\"double *\", ffi.from_buffer(b))\n",
    "\n",
    "lib.API_add(aptr, bptr, len(a))\n",
    "print(\"a + b = \", a)\n",
    "t1=time.time()\n",
    "print(\"\\ntime taken for API out of line\", t1-t0)"
   ]
  },
  {
   "cell_type": "markdown",
   "metadata": {},
   "source": [
    "***"
   ]
  },
  {
   "cell_type": "markdown",
   "metadata": {},
   "source": [
    "## Summary of different methods\n",
    "\n",
    "### ABI - in line\n",
    "\n",
    "* Create/Have a `.c` file containing your C code\n",
    "* Have a `MAKEFILE` with compiler flags to `make` the output and library files\n",
    "* Create a `.py` file which imports, implements the library and casts any necessary variables\n",
    "\n",
    "### API out of line\n",
    "\n",
    "* Create a build file in python. The `set_source` can be a block of C code or a `.h` header file\n",
    "* Run the build file\n",
    "* Import library"
   ]
  },
  {
   "cell_type": "markdown",
   "metadata": {},
   "source": [
    "## <center> [Exercises](./04-Exercises-cffi.ipynb) </center>"
   ]
  },
  {
   "cell_type": "code",
   "execution_count": null,
   "metadata": {},
   "outputs": [],
   "source": []
  }
 ],
 "metadata": {
  "celltoolbar": "Slideshow",
  "kernelspec": {
   "display_name": "Python 3",
   "language": "python",
   "name": "python3"
  },
  "language_info": {
   "codemirror_mode": {
    "name": "ipython",
    "version": 3
   },
   "file_extension": ".py",
   "mimetype": "text/x-python",
   "name": "python",
   "nbconvert_exporter": "python",
   "pygments_lexer": "ipython3",
   "version": "3.8.5"
  }
 },
 "nbformat": 4,
 "nbformat_minor": 4
}
